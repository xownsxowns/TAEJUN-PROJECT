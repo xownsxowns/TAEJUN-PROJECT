{
 "cells": [
  {
   "cell_type": "code",
   "execution_count": 1,
   "metadata": {
    "collapsed": true
   },
   "outputs": [],
   "source": [
    "# 전날 종가가 고가 또는 저가와 가까울 때의 다음날 시가 사이의 수익률 비교\n",
    "import pandas as pd\n",
    "from antQuant.utils import DataManager"
   ]
  },
  {
   "cell_type": "code",
   "execution_count": 2,
   "metadata": {
    "collapsed": false
   },
   "outputs": [],
   "source": [
    "stock = DataManager()"
   ]
  },
  {
   "cell_type": "code",
   "execution_count": 3,
   "metadata": {
    "collapsed": true
   },
   "outputs": [],
   "source": [
    "data = stock.read_data('AH_DB', 'adjdailyohlcv',['date', 'code', 'close', 'open','high','low'], conditions = {'date': \"BETWEEN DATE ' 2016-01-01' AND DATE '2018-05-01'\"})"
   ]
  },
  {
   "cell_type": "code",
   "execution_count": 4,
   "metadata": {
    "collapsed": false
   },
   "outputs": [
    {
     "data": {
      "text/html": [
       "<div>\n",
       "<style scoped>\n",
       "    .dataframe tbody tr th:only-of-type {\n",
       "        vertical-align: middle;\n",
       "    }\n",
       "\n",
       "    .dataframe tbody tr th {\n",
       "        vertical-align: top;\n",
       "    }\n",
       "\n",
       "    .dataframe thead th {\n",
       "        text-align: right;\n",
       "    }\n",
       "</style>\n",
       "<table border=\"1\" class=\"dataframe\">\n",
       "  <thead>\n",
       "    <tr style=\"text-align: right;\">\n",
       "      <th></th>\n",
       "      <th>date</th>\n",
       "      <th>code</th>\n",
       "      <th>close</th>\n",
       "      <th>open</th>\n",
       "      <th>high</th>\n",
       "      <th>low</th>\n",
       "    </tr>\n",
       "  </thead>\n",
       "  <tbody>\n",
       "    <tr>\n",
       "      <th>0</th>\n",
       "      <td>2016-01-04</td>\n",
       "      <td>001040</td>\n",
       "      <td>244000.0</td>\n",
       "      <td>247500.0</td>\n",
       "      <td>249000.0</td>\n",
       "      <td>244000.0</td>\n",
       "    </tr>\n",
       "    <tr>\n",
       "      <th>1</th>\n",
       "      <td>2016-01-04</td>\n",
       "      <td>001045</td>\n",
       "      <td>123500.0</td>\n",
       "      <td>128000.0</td>\n",
       "      <td>130000.0</td>\n",
       "      <td>123500.0</td>\n",
       "    </tr>\n",
       "    <tr>\n",
       "      <th>2</th>\n",
       "      <td>2016-01-04</td>\n",
       "      <td>001070</td>\n",
       "      <td>12720.0</td>\n",
       "      <td>12740.0</td>\n",
       "      <td>13100.0</td>\n",
       "      <td>12680.0</td>\n",
       "    </tr>\n",
       "    <tr>\n",
       "      <th>3</th>\n",
       "      <td>2016-01-04</td>\n",
       "      <td>002450</td>\n",
       "      <td>3430.0</td>\n",
       "      <td>3520.0</td>\n",
       "      <td>3520.0</td>\n",
       "      <td>3420.0</td>\n",
       "    </tr>\n",
       "    <tr>\n",
       "      <th>4</th>\n",
       "      <td>2016-01-04</td>\n",
       "      <td>002600</td>\n",
       "      <td>160000.0</td>\n",
       "      <td>163000.0</td>\n",
       "      <td>170000.0</td>\n",
       "      <td>156500.0</td>\n",
       "    </tr>\n",
       "  </tbody>\n",
       "</table>\n",
       "</div>"
      ],
      "text/plain": [
       "        date    code     close      open      high       low\n",
       "0 2016-01-04  001040  244000.0  247500.0  249000.0  244000.0\n",
       "1 2016-01-04  001045  123500.0  128000.0  130000.0  123500.0\n",
       "2 2016-01-04  001070   12720.0   12740.0   13100.0   12680.0\n",
       "3 2016-01-04  002450    3430.0    3520.0    3520.0    3420.0\n",
       "4 2016-01-04  002600  160000.0  163000.0  170000.0  156500.0"
      ]
     },
     "execution_count": 4,
     "metadata": {},
     "output_type": "execute_result"
    }
   ],
   "source": [
    "data.date = pd.to_datetime(data.date)\n",
    "data.head()"
   ]
  },
  {
   "cell_type": "code",
   "execution_count": 5,
   "metadata": {
    "collapsed": false
   },
   "outputs": [
    {
     "data": {
      "text/html": [
       "<div>\n",
       "<style scoped>\n",
       "    .dataframe tbody tr th:only-of-type {\n",
       "        vertical-align: middle;\n",
       "    }\n",
       "\n",
       "    .dataframe tbody tr th {\n",
       "        vertical-align: top;\n",
       "    }\n",
       "\n",
       "    .dataframe thead th {\n",
       "        text-align: right;\n",
       "    }\n",
       "</style>\n",
       "<table border=\"1\" class=\"dataframe\">\n",
       "  <thead>\n",
       "    <tr style=\"text-align: right;\">\n",
       "      <th></th>\n",
       "      <th></th>\n",
       "      <th>close</th>\n",
       "      <th>open</th>\n",
       "      <th>high</th>\n",
       "      <th>low</th>\n",
       "    </tr>\n",
       "    <tr>\n",
       "      <th>date</th>\n",
       "      <th>code</th>\n",
       "      <th></th>\n",
       "      <th></th>\n",
       "      <th></th>\n",
       "      <th></th>\n",
       "    </tr>\n",
       "  </thead>\n",
       "  <tbody>\n",
       "    <tr>\n",
       "      <th rowspan=\"5\" valign=\"top\">2016-01-04</th>\n",
       "      <th>001040</th>\n",
       "      <td>244000.0</td>\n",
       "      <td>247500.0</td>\n",
       "      <td>249000.0</td>\n",
       "      <td>244000.0</td>\n",
       "    </tr>\n",
       "    <tr>\n",
       "      <th>001045</th>\n",
       "      <td>123500.0</td>\n",
       "      <td>128000.0</td>\n",
       "      <td>130000.0</td>\n",
       "      <td>123500.0</td>\n",
       "    </tr>\n",
       "    <tr>\n",
       "      <th>001070</th>\n",
       "      <td>12720.0</td>\n",
       "      <td>12740.0</td>\n",
       "      <td>13100.0</td>\n",
       "      <td>12680.0</td>\n",
       "    </tr>\n",
       "    <tr>\n",
       "      <th>002450</th>\n",
       "      <td>3430.0</td>\n",
       "      <td>3520.0</td>\n",
       "      <td>3520.0</td>\n",
       "      <td>3420.0</td>\n",
       "    </tr>\n",
       "    <tr>\n",
       "      <th>002600</th>\n",
       "      <td>160000.0</td>\n",
       "      <td>163000.0</td>\n",
       "      <td>170000.0</td>\n",
       "      <td>156500.0</td>\n",
       "    </tr>\n",
       "  </tbody>\n",
       "</table>\n",
       "</div>"
      ],
      "text/plain": [
       "                      close      open      high       low\n",
       "date       code                                          \n",
       "2016-01-04 001040  244000.0  247500.0  249000.0  244000.0\n",
       "           001045  123500.0  128000.0  130000.0  123500.0\n",
       "           001070   12720.0   12740.0   13100.0   12680.0\n",
       "           002450    3430.0    3520.0    3520.0    3420.0\n",
       "           002600  160000.0  163000.0  170000.0  156500.0"
      ]
     },
     "execution_count": 5,
     "metadata": {},
     "output_type": "execute_result"
    }
   ],
   "source": [
    "data.set_index(['date', 'code'], inplace=True)\n",
    "data.head()"
   ]
  },
  {
   "cell_type": "code",
   "execution_count": 6,
   "metadata": {
    "collapsed": true
   },
   "outputs": [],
   "source": [
    "import numpy as np"
   ]
  },
  {
   "cell_type": "code",
   "execution_count": 7,
   "metadata": {
    "collapsed": false
   },
   "outputs": [
    {
     "data": {
      "text/html": [
       "<div>\n",
       "<style scoped>\n",
       "    .dataframe tbody tr th:only-of-type {\n",
       "        vertical-align: middle;\n",
       "    }\n",
       "\n",
       "    .dataframe tbody tr th {\n",
       "        vertical-align: top;\n",
       "    }\n",
       "\n",
       "    .dataframe thead th {\n",
       "        text-align: right;\n",
       "    }\n",
       "</style>\n",
       "<table border=\"1\" class=\"dataframe\">\n",
       "  <thead>\n",
       "    <tr style=\"text-align: right;\">\n",
       "      <th></th>\n",
       "      <th></th>\n",
       "      <th>close</th>\n",
       "      <th>open</th>\n",
       "      <th>high</th>\n",
       "      <th>low</th>\n",
       "      <th>opend1</th>\n",
       "    </tr>\n",
       "    <tr>\n",
       "      <th>date</th>\n",
       "      <th>code</th>\n",
       "      <th></th>\n",
       "      <th></th>\n",
       "      <th></th>\n",
       "      <th></th>\n",
       "      <th></th>\n",
       "    </tr>\n",
       "  </thead>\n",
       "  <tbody>\n",
       "    <tr>\n",
       "      <th rowspan=\"5\" valign=\"top\">2016-01-04</th>\n",
       "      <th>001040</th>\n",
       "      <td>244000.0</td>\n",
       "      <td>247500.0</td>\n",
       "      <td>249000.0</td>\n",
       "      <td>244000.0</td>\n",
       "      <td>241500.0</td>\n",
       "    </tr>\n",
       "    <tr>\n",
       "      <th>001045</th>\n",
       "      <td>123500.0</td>\n",
       "      <td>128000.0</td>\n",
       "      <td>130000.0</td>\n",
       "      <td>123500.0</td>\n",
       "      <td>124500.0</td>\n",
       "    </tr>\n",
       "    <tr>\n",
       "      <th>001070</th>\n",
       "      <td>12720.0</td>\n",
       "      <td>12740.0</td>\n",
       "      <td>13100.0</td>\n",
       "      <td>12680.0</td>\n",
       "      <td>12720.0</td>\n",
       "    </tr>\n",
       "    <tr>\n",
       "      <th>002450</th>\n",
       "      <td>3430.0</td>\n",
       "      <td>3520.0</td>\n",
       "      <td>3520.0</td>\n",
       "      <td>3420.0</td>\n",
       "      <td>3370.0</td>\n",
       "    </tr>\n",
       "    <tr>\n",
       "      <th>002600</th>\n",
       "      <td>160000.0</td>\n",
       "      <td>163000.0</td>\n",
       "      <td>170000.0</td>\n",
       "      <td>156500.0</td>\n",
       "      <td>160000.0</td>\n",
       "    </tr>\n",
       "  </tbody>\n",
       "</table>\n",
       "</div>"
      ],
      "text/plain": [
       "                      close      open      high       low    opend1\n",
       "date       code                                                    \n",
       "2016-01-04 001040  244000.0  247500.0  249000.0  244000.0  241500.0\n",
       "           001045  123500.0  128000.0  130000.0  123500.0  124500.0\n",
       "           001070   12720.0   12740.0   13100.0   12680.0   12720.0\n",
       "           002450    3430.0    3520.0    3520.0    3420.0    3370.0\n",
       "           002600  160000.0  163000.0  170000.0  156500.0  160000.0"
      ]
     },
     "execution_count": 7,
     "metadata": {},
     "output_type": "execute_result"
    }
   ],
   "source": [
    "# 다음날 시가를 당일 종가로 맞추기\n",
    "data['opend1'] = data['open'].groupby(level=1).shift(-1)\n",
    "data.head()"
   ]
  },
  {
   "cell_type": "code",
   "execution_count": 8,
   "metadata": {
    "collapsed": false
   },
   "outputs": [
    {
     "name": "stderr",
     "output_type": "stream",
     "text": [
      "//anaconda/lib/python3.5/site-packages/ipykernel/__main__.py:1: RuntimeWarning: divide by zero encountered in log\n",
      "  if __name__ == '__main__':\n"
     ]
    },
    {
     "data": {
      "text/html": [
       "<div>\n",
       "<style scoped>\n",
       "    .dataframe tbody tr th:only-of-type {\n",
       "        vertical-align: middle;\n",
       "    }\n",
       "\n",
       "    .dataframe tbody tr th {\n",
       "        vertical-align: top;\n",
       "    }\n",
       "\n",
       "    .dataframe thead th {\n",
       "        text-align: right;\n",
       "    }\n",
       "</style>\n",
       "<table border=\"1\" class=\"dataframe\">\n",
       "  <thead>\n",
       "    <tr style=\"text-align: right;\">\n",
       "      <th></th>\n",
       "      <th></th>\n",
       "      <th>close</th>\n",
       "      <th>open</th>\n",
       "      <th>high</th>\n",
       "      <th>low</th>\n",
       "      <th>opend1</th>\n",
       "      <th>returns</th>\n",
       "    </tr>\n",
       "    <tr>\n",
       "      <th>date</th>\n",
       "      <th>code</th>\n",
       "      <th></th>\n",
       "      <th></th>\n",
       "      <th></th>\n",
       "      <th></th>\n",
       "      <th></th>\n",
       "      <th></th>\n",
       "    </tr>\n",
       "  </thead>\n",
       "  <tbody>\n",
       "    <tr>\n",
       "      <th rowspan=\"5\" valign=\"top\">2016-01-04</th>\n",
       "      <th>001040</th>\n",
       "      <td>244000.0</td>\n",
       "      <td>247500.0</td>\n",
       "      <td>249000.0</td>\n",
       "      <td>244000.0</td>\n",
       "      <td>241500.0</td>\n",
       "      <td>-0.010299</td>\n",
       "    </tr>\n",
       "    <tr>\n",
       "      <th>001045</th>\n",
       "      <td>123500.0</td>\n",
       "      <td>128000.0</td>\n",
       "      <td>130000.0</td>\n",
       "      <td>123500.0</td>\n",
       "      <td>124500.0</td>\n",
       "      <td>0.008065</td>\n",
       "    </tr>\n",
       "    <tr>\n",
       "      <th>001070</th>\n",
       "      <td>12720.0</td>\n",
       "      <td>12740.0</td>\n",
       "      <td>13100.0</td>\n",
       "      <td>12680.0</td>\n",
       "      <td>12720.0</td>\n",
       "      <td>0.000000</td>\n",
       "    </tr>\n",
       "    <tr>\n",
       "      <th>002450</th>\n",
       "      <td>3430.0</td>\n",
       "      <td>3520.0</td>\n",
       "      <td>3520.0</td>\n",
       "      <td>3420.0</td>\n",
       "      <td>3370.0</td>\n",
       "      <td>-0.017648</td>\n",
       "    </tr>\n",
       "    <tr>\n",
       "      <th>002600</th>\n",
       "      <td>160000.0</td>\n",
       "      <td>163000.0</td>\n",
       "      <td>170000.0</td>\n",
       "      <td>156500.0</td>\n",
       "      <td>160000.0</td>\n",
       "      <td>0.000000</td>\n",
       "    </tr>\n",
       "  </tbody>\n",
       "</table>\n",
       "</div>"
      ],
      "text/plain": [
       "                      close      open      high       low    opend1   returns\n",
       "date       code                                                              \n",
       "2016-01-04 001040  244000.0  247500.0  249000.0  244000.0  241500.0 -0.010299\n",
       "           001045  123500.0  128000.0  130000.0  123500.0  124500.0  0.008065\n",
       "           001070   12720.0   12740.0   13100.0   12680.0   12720.0  0.000000\n",
       "           002450    3430.0    3520.0    3520.0    3420.0    3370.0 -0.017648\n",
       "           002600  160000.0  163000.0  170000.0  156500.0  160000.0  0.000000"
      ]
     },
     "execution_count": 8,
     "metadata": {},
     "output_type": "execute_result"
    }
   ],
   "source": [
    "data['returns'] = np.log(data['opend1']/data['close'])\n",
    "data = data[(data['returns']!=np.inf)&(data['returns']!=-np.inf)]\n",
    "data.head()"
   ]
  },
  {
   "cell_type": "code",
   "execution_count": 16,
   "metadata": {
    "collapsed": false
   },
   "outputs": [
    {
     "name": "stdout",
     "output_type": "stream",
     "text": [
      "sum of returns: 92.57035774505937\n",
      "count    637029.000000\n",
      "mean          0.000145\n",
      "std           0.023536\n",
      "min          -2.353969\n",
      "25%          -0.003824\n",
      "50%           0.000000\n",
      "75%           0.004812\n",
      "max           4.598801\n",
      "Name: returns, dtype: float64\n"
     ]
    }
   ],
   "source": [
    "# 전날 종가가 고가와 가까울 때의 다음날 시가 사이의 수익률 비교\n",
    "print('sum of returns: {0}'.format(data[(data['high'] - data['close']) < (data['close'] - data['low'])]['returns'].dropna().sum()))\n",
    "print(data[(data['high'] - data['close']) < (data['close'] - data['low'])]['returns'].dropna().describe())"
   ]
  },
  {
   "cell_type": "code",
   "execution_count": 17,
   "metadata": {
    "collapsed": false
   },
   "outputs": [
    {
     "name": "stdout",
     "output_type": "stream",
     "text": [
      "sum of returns: 1143.9859270568886\n",
      "count    656417.000000\n",
      "mean          0.001743\n",
      "std           0.018752\n",
      "min          -1.427116\n",
      "25%          -0.003017\n",
      "50%           0.000000\n",
      "75%           0.006335\n",
      "max           2.261763\n",
      "Name: returns, dtype: float64\n"
     ]
    }
   ],
   "source": [
    "# 전날 종가가 저가와 가까울 때의 다음날 시가 사이의 수익률 비교\n",
    "print('sum of returns: {0}'.format(data[(data['high'] - data['close']) > (data['close'] - data['low'])]['returns'].dropna().sum()))\n",
    "print(data[(data['high'] - data['close']) > (data['close'] - data['low'])]['returns'].dropna().describe())"
   ]
  },
  {
   "cell_type": "code",
   "execution_count": null,
   "metadata": {
    "collapsed": true
   },
   "outputs": [],
   "source": []
  }
 ],
 "metadata": {
  "anaconda-cloud": {},
  "kernelspec": {
   "display_name": "Python [conda root]",
   "language": "python",
   "name": "conda-root-py"
  },
  "language_info": {
   "codemirror_mode": {
    "name": "ipython",
    "version": 3
   },
   "file_extension": ".py",
   "mimetype": "text/x-python",
   "name": "python",
   "nbconvert_exporter": "python",
   "pygments_lexer": "ipython3",
   "version": "3.5.2"
  }
 },
 "nbformat": 4,
 "nbformat_minor": 0
}
