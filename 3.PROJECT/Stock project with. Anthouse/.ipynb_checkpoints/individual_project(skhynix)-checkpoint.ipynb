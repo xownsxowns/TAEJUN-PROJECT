{
 "cells": [
  {
   "cell_type": "code",
   "execution_count": 30,
   "metadata": {
    "collapsed": true
   },
   "outputs": [],
   "source": [
    "import pandas as pd\n",
    "from antQuant.utils import DataManager"
   ]
  },
  {
   "cell_type": "code",
   "execution_count": 31,
   "metadata": {
    "collapsed": true
   },
   "outputs": [],
   "source": [
    "hynix = DataManager()\n",
    "hynix_stock = hynix.get_daily_ohlcv('000660')"
   ]
  },
  {
   "cell_type": "code",
   "execution_count": 32,
   "metadata": {
    "collapsed": false
   },
   "outputs": [
    {
     "data": {
      "text/plain": [
       "4792"
      ]
     },
     "execution_count": 32,
     "metadata": {},
     "output_type": "execute_result"
    }
   ],
   "source": [
    "hynix_stock.index.get_loc('2016-01-04')"
   ]
  },
  {
   "cell_type": "code",
   "execution_count": 33,
   "metadata": {
    "collapsed": false
   },
   "outputs": [],
   "source": [
    "hynix_stock = hynix_stock[hynix_stock.index.get_loc('2016-01-04'):]"
   ]
  },
  {
   "cell_type": "code",
   "execution_count": 34,
   "metadata": {
    "collapsed": false
   },
   "outputs": [],
   "source": [
    "samsung = pd.read_excel('datalab_samsung.xlsx', skiprows=6)\n",
    "samsungbio = pd.read_excel('datalab_samsungbio.xlsx',skiprows=6)\n",
    "hynix = pd.read_excel('datalab_skhynix.xlsx',skiprows=6)\n",
    "celltrion = pd.read_excel('datalab_celltrion.xlsx',skiprows=6)\n",
    "hyundai = pd.read_excel('datalab_hyundai.xlsx',skiprows=6)"
   ]
  },
  {
   "cell_type": "code",
   "execution_count": 35,
   "metadata": {
    "collapsed": true
   },
   "outputs": [],
   "source": [
    "for df in [samsung, samsungbio, hynix, celltrion, hyundai]:\n",
    "    df.columns = ['date', 'search']\n",
    "    df.date = pd.to_datetime(df.date)"
   ]
  },
  {
   "cell_type": "code",
   "execution_count": 36,
   "metadata": {
    "collapsed": false
   },
   "outputs": [],
   "source": [
    "hynix = hynix.set_index('date')"
   ]
  },
  {
   "cell_type": "code",
   "execution_count": 38,
   "metadata": {
    "collapsed": false
   },
   "outputs": [],
   "source": [
    "hynix = hynix.shift(1)"
   ]
  },
  {
   "cell_type": "code",
   "execution_count": 39,
   "metadata": {
    "collapsed": false,
    "scrolled": true
   },
   "outputs": [],
   "source": [
    "all_set = pd.concat([hynix, hynix_stock], axis=1)"
   ]
  },
  {
   "cell_type": "code",
   "execution_count": 40,
   "metadata": {
    "collapsed": false,
    "scrolled": true
   },
   "outputs": [],
   "source": [
    "all_set = all_set.dropna(axis=0)"
   ]
  },
  {
   "cell_type": "code",
   "execution_count": 41,
   "metadata": {
    "collapsed": true
   },
   "outputs": [],
   "source": [
    "import math"
   ]
  },
  {
   "cell_type": "code",
   "execution_count": 42,
   "metadata": {
    "collapsed": false
   },
   "outputs": [],
   "source": [
    "log_close = []\n",
    "for i in range(len(all_set.index)):\n",
    "    a = math.log(all_set['close'][i])\n",
    "    log_close.append(a)"
   ]
  },
  {
   "cell_type": "code",
   "execution_count": 43,
   "metadata": {
    "collapsed": false
   },
   "outputs": [],
   "source": [
    "all_set['log_close']=log_close"
   ]
  },
  {
   "cell_type": "code",
   "execution_count": 44,
   "metadata": {
    "collapsed": false
   },
   "outputs": [],
   "source": [
    "all_set['log_close_diff'] = all_set['log_close'].diff()"
   ]
  },
  {
   "cell_type": "code",
   "execution_count": 45,
   "metadata": {
    "collapsed": false
   },
   "outputs": [],
   "source": [
    "all_set = all_set[1:]"
   ]
  },
  {
   "cell_type": "code",
   "execution_count": 46,
   "metadata": {
    "collapsed": true
   },
   "outputs": [],
   "source": [
    "import matplotlib.pyplot as plt"
   ]
  },
  {
   "cell_type": "code",
   "execution_count": 47,
   "metadata": {
    "collapsed": true
   },
   "outputs": [],
   "source": [
    "all_set = pd.DataFrame(all_set)"
   ]
  },
  {
   "cell_type": "code",
   "execution_count": 48,
   "metadata": {
    "collapsed": false,
    "scrolled": false
   },
   "outputs": [],
   "source": [
    "from sklearn.preprocessing import StandardScaler\n",
    "stdscaler = StandardScaler()\n",
    "x_search = all_set[['search']].values.astype(float)\n",
    "std_search = stdscaler.fit_transform(x_search)"
   ]
  },
  {
   "cell_type": "code",
   "execution_count": 49,
   "metadata": {
    "collapsed": true
   },
   "outputs": [],
   "source": [
    "norm_log_close_diff = all_set[['log_close_diff']].values.astype(float)\n",
    "norm_log_close_diff = stdscaler.fit_transform(norm_log_close_diff)"
   ]
  },
  {
   "cell_type": "code",
   "execution_count": 50,
   "metadata": {
    "collapsed": true
   },
   "outputs": [],
   "source": [
    "all_set['std_search'] = std_search\n",
    "all_set['norm_log_close_diff'] = norm_log_close_diff"
   ]
  },
  {
   "cell_type": "code",
   "execution_count": 51,
   "metadata": {
    "collapsed": false
   },
   "outputs": [
    {
     "data": {
      "text/plain": [
       "<matplotlib.legend.Legend at 0x1a15b0e860>"
      ]
     },
     "execution_count": 51,
     "metadata": {},
     "output_type": "execute_result"
    }
   ],
   "source": [
    "all_set['std_search'].plot()\n",
    "all_set['norm_log_close_diff'].plot()\n",
    "plt.legend(['std_search', 'norm_log_close_diff'])"
   ]
  },
  {
   "cell_type": "code",
   "execution_count": 52,
   "metadata": {
    "collapsed": false
   },
   "outputs": [
    {
     "data": {
      "image/png": "[encoded data removed]",
      "text/plain": [
       "<matplotlib.figure.Figure at 0x1a15b0e908>"
      ]
     },
     "metadata": {},
     "output_type": "display_data"
    }
   ],
   "source": [
    "plt.show()"
   ]
  },
  {
   "cell_type": "code",
   "execution_count": 53,
   "metadata": {
    "collapsed": false
   },
   "outputs": [
    {
     "data": {
      "text/plain": [
       "(-0.06492982999367476, 0.12863902441229735)"
      ]
     },
     "execution_count": 53,
     "metadata": {},
     "output_type": "execute_result"
    }
   ],
   "source": [
    "from scipy.stats import pearsonr\n",
    "pearsonr(all_set['std_search'], all_set['norm_log_close_diff'])"
   ]
  },
  {
   "cell_type": "code",
   "execution_count": 54,
   "metadata": {
    "collapsed": false
   },
   "outputs": [
    {
     "data": {
      "text/html": [
       "<div>\n",
       "<style scoped>\n",
       "    .dataframe tbody tr th:only-of-type {\n",
       "        vertical-align: middle;\n",
       "    }\n",
       "\n",
       "    .dataframe tbody tr th {\n",
       "        vertical-align: top;\n",
       "    }\n",
       "\n",
       "    .dataframe thead th {\n",
       "        text-align: right;\n",
       "    }\n",
       "</style>\n",
       "<table border=\"1\" class=\"dataframe\">\n",
       "  <thead>\n",
       "    <tr style=\"text-align: right;\">\n",
       "      <th></th>\n",
       "      <th>search</th>\n",
       "      <th>open</th>\n",
       "      <th>high</th>\n",
       "      <th>low</th>\n",
       "      <th>close</th>\n",
       "      <th>volume</th>\n",
       "      <th>adj_ratio</th>\n",
       "      <th>log_close</th>\n",
       "      <th>log_close_diff</th>\n",
       "      <th>std_search</th>\n",
       "      <th>norm_log_close_diff</th>\n",
       "    </tr>\n",
       "  </thead>\n",
       "  <tbody>\n",
       "    <tr>\n",
       "      <th>search</th>\n",
       "      <td>1.000000</td>\n",
       "      <td>0.431805</td>\n",
       "      <td>0.430441</td>\n",
       "      <td>0.427652</td>\n",
       "      <td>0.428165</td>\n",
       "      <td>0.272840</td>\n",
       "      <td>NaN</td>\n",
       "      <td>0.410616</td>\n",
       "      <td>-0.064930</td>\n",
       "      <td>1.000000</td>\n",
       "      <td>-0.064930</td>\n",
       "    </tr>\n",
       "    <tr>\n",
       "      <th>open</th>\n",
       "      <td>0.431805</td>\n",
       "      <td>1.000000</td>\n",
       "      <td>0.999567</td>\n",
       "      <td>0.999462</td>\n",
       "      <td>0.998766</td>\n",
       "      <td>0.302241</td>\n",
       "      <td>NaN</td>\n",
       "      <td>0.986942</td>\n",
       "      <td>-0.011918</td>\n",
       "      <td>0.431805</td>\n",
       "      <td>-0.011918</td>\n",
       "    </tr>\n",
       "    <tr>\n",
       "      <th>high</th>\n",
       "      <td>0.430441</td>\n",
       "      <td>0.999567</td>\n",
       "      <td>1.000000</td>\n",
       "      <td>0.999596</td>\n",
       "      <td>0.999474</td>\n",
       "      <td>0.309699</td>\n",
       "      <td>NaN</td>\n",
       "      <td>0.987602</td>\n",
       "      <td>0.004058</td>\n",
       "      <td>0.430441</td>\n",
       "      <td>0.004058</td>\n",
       "    </tr>\n",
       "    <tr>\n",
       "      <th>low</th>\n",
       "      <td>0.427652</td>\n",
       "      <td>0.999462</td>\n",
       "      <td>0.999596</td>\n",
       "      <td>1.000000</td>\n",
       "      <td>0.999557</td>\n",
       "      <td>0.292802</td>\n",
       "      <td>NaN</td>\n",
       "      <td>0.987918</td>\n",
       "      <td>0.007609</td>\n",
       "      <td>0.427652</td>\n",
       "      <td>0.007609</td>\n",
       "    </tr>\n",
       "    <tr>\n",
       "      <th>close</th>\n",
       "      <td>0.428165</td>\n",
       "      <td>0.998766</td>\n",
       "      <td>0.999474</td>\n",
       "      <td>0.999557</td>\n",
       "      <td>1.000000</td>\n",
       "      <td>0.299149</td>\n",
       "      <td>NaN</td>\n",
       "      <td>0.988375</td>\n",
       "      <td>0.026462</td>\n",
       "      <td>0.428165</td>\n",
       "      <td>0.026462</td>\n",
       "    </tr>\n",
       "    <tr>\n",
       "      <th>volume</th>\n",
       "      <td>0.272840</td>\n",
       "      <td>0.302241</td>\n",
       "      <td>0.309699</td>\n",
       "      <td>0.292802</td>\n",
       "      <td>0.299149</td>\n",
       "      <td>1.000000</td>\n",
       "      <td>NaN</td>\n",
       "      <td>0.278396</td>\n",
       "      <td>-0.049057</td>\n",
       "      <td>0.272840</td>\n",
       "      <td>-0.049057</td>\n",
       "    </tr>\n",
       "    <tr>\n",
       "      <th>adj_ratio</th>\n",
       "      <td>NaN</td>\n",
       "      <td>NaN</td>\n",
       "      <td>NaN</td>\n",
       "      <td>NaN</td>\n",
       "      <td>NaN</td>\n",
       "      <td>NaN</td>\n",
       "      <td>NaN</td>\n",
       "      <td>NaN</td>\n",
       "      <td>NaN</td>\n",
       "      <td>NaN</td>\n",
       "      <td>NaN</td>\n",
       "    </tr>\n",
       "    <tr>\n",
       "      <th>log_close</th>\n",
       "      <td>0.410616</td>\n",
       "      <td>0.986942</td>\n",
       "      <td>0.987602</td>\n",
       "      <td>0.987918</td>\n",
       "      <td>0.988375</td>\n",
       "      <td>0.278396</td>\n",
       "      <td>NaN</td>\n",
       "      <td>1.000000</td>\n",
       "      <td>0.031852</td>\n",
       "      <td>0.410616</td>\n",
       "      <td>0.031852</td>\n",
       "    </tr>\n",
       "    <tr>\n",
       "      <th>log_close_diff</th>\n",
       "      <td>-0.064930</td>\n",
       "      <td>-0.011918</td>\n",
       "      <td>0.004058</td>\n",
       "      <td>0.007609</td>\n",
       "      <td>0.026462</td>\n",
       "      <td>-0.049057</td>\n",
       "      <td>NaN</td>\n",
       "      <td>0.031852</td>\n",
       "      <td>1.000000</td>\n",
       "      <td>-0.064930</td>\n",
       "      <td>1.000000</td>\n",
       "    </tr>\n",
       "    <tr>\n",
       "      <th>std_search</th>\n",
       "      <td>1.000000</td>\n",
       "      <td>0.431805</td>\n",
       "      <td>0.430441</td>\n",
       "      <td>0.427652</td>\n",
       "      <td>0.428165</td>\n",
       "      <td>0.272840</td>\n",
       "      <td>NaN</td>\n",
       "      <td>0.410616</td>\n",
       "      <td>-0.064930</td>\n",
       "      <td>1.000000</td>\n",
       "      <td>-0.064930</td>\n",
       "    </tr>\n",
       "    <tr>\n",
       "      <th>norm_log_close_diff</th>\n",
       "      <td>-0.064930</td>\n",
       "      <td>-0.011918</td>\n",
       "      <td>0.004058</td>\n",
       "      <td>0.007609</td>\n",
       "      <td>0.026462</td>\n",
       "      <td>-0.049057</td>\n",
       "      <td>NaN</td>\n",
       "      <td>0.031852</td>\n",
       "      <td>1.000000</td>\n",
       "      <td>-0.064930</td>\n",
       "      <td>1.000000</td>\n",
       "    </tr>\n",
       "  </tbody>\n",
       "</table>\n",
       "</div>"
      ],
      "text/plain": [
       "                       search      open      high       low     close  \\\n",
       "search               1.000000  0.431805  0.430441  0.427652  0.428165   \n",
       "open                 0.431805  1.000000  0.999567  0.999462  0.998766   \n",
       "high                 0.430441  0.999567  1.000000  0.999596  0.999474   \n",
       "low                  0.427652  0.999462  0.999596  1.000000  0.999557   \n",
       "close                0.428165  0.998766  0.999474  0.999557  1.000000   \n",
       "volume               0.272840  0.302241  0.309699  0.292802  0.299149   \n",
       "adj_ratio                 NaN       NaN       NaN       NaN       NaN   \n",
       "log_close            0.410616  0.986942  0.987602  0.987918  0.988375   \n",
       "log_close_diff      -0.064930 -0.011918  0.004058  0.007609  0.026462   \n",
       "std_search           1.000000  0.431805  0.430441  0.427652  0.428165   \n",
       "norm_log_close_diff -0.064930 -0.011918  0.004058  0.007609  0.026462   \n",
       "\n",
       "                       volume  adj_ratio  log_close  log_close_diff  \\\n",
       "search               0.272840        NaN   0.410616       -0.064930   \n",
       "open                 0.302241        NaN   0.986942       -0.011918   \n",
       "high                 0.309699        NaN   0.987602        0.004058   \n",
       "low                  0.292802        NaN   0.987918        0.007609   \n",
       "close                0.299149        NaN   0.988375        0.026462   \n",
       "volume               1.000000        NaN   0.278396       -0.049057   \n",
       "adj_ratio                 NaN        NaN        NaN             NaN   \n",
       "log_close            0.278396        NaN   1.000000        0.031852   \n",
       "log_close_diff      -0.049057        NaN   0.031852        1.000000   \n",
       "std_search           0.272840        NaN   0.410616       -0.064930   \n",
       "norm_log_close_diff -0.049057        NaN   0.031852        1.000000   \n",
       "\n",
       "                     std_search  norm_log_close_diff  \n",
       "search                 1.000000            -0.064930  \n",
       "open                   0.431805            -0.011918  \n",
       "high                   0.430441             0.004058  \n",
       "low                    0.427652             0.007609  \n",
       "close                  0.428165             0.026462  \n",
       "volume                 0.272840            -0.049057  \n",
       "adj_ratio                   NaN                  NaN  \n",
       "log_close              0.410616             0.031852  \n",
       "log_close_diff        -0.064930             1.000000  \n",
       "std_search             1.000000            -0.064930  \n",
       "norm_log_close_diff   -0.064930             1.000000  "
      ]
     },
     "execution_count": 54,
     "metadata": {},
     "output_type": "execute_result"
    }
   ],
   "source": [
    "all_set.corr()"
   ]
  },
  {
   "cell_type": "code",
   "execution_count": null,
   "metadata": {
    "collapsed": true
   },
   "outputs": [],
   "source": []
  }
 ],
 "metadata": {
  "anaconda-cloud": {},
  "kernelspec": {
   "display_name": "Python [conda root]",
   "language": "python",
   "name": "conda-root-py"
  },
  "language_info": {
   "codemirror_mode": {
    "name": "ipython",
    "version": 3
   },
   "file_extension": ".py",
   "mimetype": "text/x-python",
   "name": "python",
   "nbconvert_exporter": "python",
   "pygments_lexer": "ipython3",
   "version": "3.5.2"
  }
 },
 "nbformat": 4,
 "nbformat_minor": 0
}
