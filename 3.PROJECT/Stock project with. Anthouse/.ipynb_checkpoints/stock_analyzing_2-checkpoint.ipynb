{
 "cells": [
  {
   "cell_type": "code",
   "execution_count": 3,
   "metadata": {
    "collapsed": true
   },
   "outputs": [],
   "source": [
    "# 전날 종가가 상승했을 때 종가와 다음날 사이 수익률 비교\n",
    "import pandas as pd\n",
    "from antQuant.utils import DataManager"
   ]
  },
  {
   "cell_type": "code",
   "execution_count": 4,
   "metadata": {
    "collapsed": true
   },
   "outputs": [],
   "source": [
    "skhynix = DataManager()\n",
    "skhynix_stock = skhynix.get_daily_ohlcv('000660')"
   ]
  },
  {
   "cell_type": "code",
   "execution_count": 7,
   "metadata": {
    "collapsed": true
   },
   "outputs": [],
   "source": [
    "profit = 0\n",
    "number_of_profit = 0\n",
    "for i in range(len(skhynix_stock.index)):\n",
    "    if skhynix_stock.close[i-1] > skhynix_stock.open[i-1]:\n",
    "        pf = skhynix_stock.open[i] - skhynix_stock.close[i-1]\n",
    "        profit = profit + pf\n",
    "        number_of_profit += 1\n",
    "    else:\n",
    "        continue"
   ]
  },
  {
   "cell_type": "code",
   "execution_count": 12,
   "metadata": {
    "collapsed": false
   },
   "outputs": [
    {
     "name": "stdout",
     "output_type": "stream",
     "text": [
      "수익이 일어날 확률은 42.447383125349226\n"
     ]
    }
   ],
   "source": [
    "# 수익이 일어날 확률\n",
    "percent_profit = (number_of_profit / len(skhynix_stock.index)) * 100\n",
    "print(\"수익이 일어날 확률은 {0}\".format(percent_profit))"
   ]
  },
  {
   "cell_type": "code",
   "execution_count": 13,
   "metadata": {
    "collapsed": true
   },
   "outputs": [],
   "source": [
    "# 전날 종가가 하락했을 때 종가와 다음날 사이 수익률 비교"
   ]
  },
  {
   "cell_type": "code",
   "execution_count": 14,
   "metadata": {
    "collapsed": true
   },
   "outputs": [],
   "source": [
    "profit = 0\n",
    "number_of_profit = 0\n",
    "for i in range(len(skhynix_stock.index)):\n",
    "    if skhynix_stock.close[i-1] < skhynix_stock.open[i-1]:\n",
    "        pf = skhynix_stock.open[i] - skhynix_stock.close[i-1]\n",
    "        profit = profit + pf\n",
    "        number_of_profit += 1\n",
    "    else:\n",
    "        continue"
   ]
  },
  {
   "cell_type": "code",
   "execution_count": 15,
   "metadata": {
    "collapsed": false
   },
   "outputs": [
    {
     "name": "stdout",
     "output_type": "stream",
     "text": [
      "수익이 일어날 확률은 52.11398770720804\n"
     ]
    }
   ],
   "source": [
    "# 수익이 일어날 확률\n",
    "percent_profit = (number_of_profit / len(skhynix_stock.index)) * 100\n",
    "print(\"수익이 일어날 확률은 {0}\".format(percent_profit))"
   ]
  },
  {
   "cell_type": "code",
   "execution_count": null,
   "metadata": {
    "collapsed": true
   },
   "outputs": [],
   "source": []
  }
 ],
 "metadata": {
  "kernelspec": {
   "display_name": "Python [conda root]",
   "language": "python",
   "name": "conda-root-py"
  },
  "language_info": {
   "codemirror_mode": {
    "name": "ipython",
    "version": 3
   },
   "file_extension": ".py",
   "mimetype": "text/x-python",
   "name": "python",
   "nbconvert_exporter": "python",
   "pygments_lexer": "ipython3",
   "version": "3.5.2"
  }
 },
 "nbformat": 4,
 "nbformat_minor": 1
}
