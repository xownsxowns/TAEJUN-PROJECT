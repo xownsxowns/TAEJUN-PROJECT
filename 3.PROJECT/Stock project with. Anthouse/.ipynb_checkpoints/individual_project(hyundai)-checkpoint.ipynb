{
 "cells": [
  {
   "cell_type": "code",
   "execution_count": 1,
   "metadata": {
    "collapsed": true
   },
   "outputs": [],
   "source": [
    "import pandas as pd\n",
    "from antQuant.utils import DataManager"
   ]
  },
  {
   "cell_type": "code",
   "execution_count": 2,
   "metadata": {
    "collapsed": true
   },
   "outputs": [],
   "source": [
    "hyundai = DataManager()\n",
    "hyundai_stock = hyundai.get_daily_ohlcv('005930')"
   ]
  },
  {
   "cell_type": "code",
   "execution_count": 3,
   "metadata": {
    "collapsed": false
   },
   "outputs": [
    {
     "data": {
      "text/plain": [
       "6845"
      ]
     },
     "execution_count": 3,
     "metadata": {},
     "output_type": "execute_result"
    }
   ],
   "source": [
    "hyundai_stock.index.get_loc('2016-01-04')"
   ]
  },
  {
   "cell_type": "code",
   "execution_count": 4,
   "metadata": {
    "collapsed": false
   },
   "outputs": [],
   "source": [
    "hyundai_stock = hyundai_stock[hyundai_stock.index.get_loc('2016-01-04'):]"
   ]
  },
  {
   "cell_type": "code",
   "execution_count": 5,
   "metadata": {
    "collapsed": false
   },
   "outputs": [],
   "source": [
    "samsung = pd.read_excel('datalab_samsung.xlsx', skiprows=6)\n",
    "samsungbio = pd.read_excel('datalab_samsungbio.xlsx',skiprows=6)\n",
    "hynix = pd.read_excel('datalab_skhynix.xlsx',skiprows=6)\n",
    "celltrion = pd.read_excel('datalab_celltrion.xlsx',skiprows=6)\n",
    "hyundai = pd.read_excel('datalab_hyundai.xlsx',skiprows=6)"
   ]
  },
  {
   "cell_type": "code",
   "execution_count": 6,
   "metadata": {
    "collapsed": true
   },
   "outputs": [],
   "source": [
    "for df in [samsung, samsungbio, hynix, celltrion, hyundai]:\n",
    "    df.columns = ['date', 'search']\n",
    "    df.date = pd.to_datetime(df.date)"
   ]
  },
  {
   "cell_type": "code",
   "execution_count": 7,
   "metadata": {
    "collapsed": false
   },
   "outputs": [],
   "source": [
    "hyundai = hyundai.set_index('date')"
   ]
  },
  {
   "cell_type": "code",
   "execution_count": 8,
   "metadata": {
    "collapsed": true
   },
   "outputs": [],
   "source": [
    "hyundai = hyundai.shift(1)"
   ]
  },
  {
   "cell_type": "code",
   "execution_count": 9,
   "metadata": {
    "collapsed": false,
    "scrolled": true
   },
   "outputs": [],
   "source": [
    "all_set = pd.concat([hyundai, hyundai_stock], axis=1)"
   ]
  },
  {
   "cell_type": "code",
   "execution_count": 10,
   "metadata": {
    "collapsed": false,
    "scrolled": true
   },
   "outputs": [],
   "source": [
    "all_set = all_set.dropna(axis=0)"
   ]
  },
  {
   "cell_type": "code",
   "execution_count": 11,
   "metadata": {
    "collapsed": true
   },
   "outputs": [],
   "source": [
    "import math"
   ]
  },
  {
   "cell_type": "code",
   "execution_count": 12,
   "metadata": {
    "collapsed": true
   },
   "outputs": [],
   "source": [
    "log_close = []\n",
    "for i in range(len(all_set.index)):\n",
    "    a = math.log(all_set['close'][i])\n",
    "    log_close.append(a)"
   ]
  },
  {
   "cell_type": "code",
   "execution_count": 13,
   "metadata": {
    "collapsed": false
   },
   "outputs": [],
   "source": [
    "all_set['log_close']=log_close"
   ]
  },
  {
   "cell_type": "code",
   "execution_count": 14,
   "metadata": {
    "collapsed": true
   },
   "outputs": [],
   "source": [
    "all_set['log_close_diff'] = all_set['log_close'].diff()"
   ]
  },
  {
   "cell_type": "code",
   "execution_count": 15,
   "metadata": {
    "collapsed": true
   },
   "outputs": [],
   "source": [
    "all_set = all_set[1:]"
   ]
  },
  {
   "cell_type": "code",
   "execution_count": 16,
   "metadata": {
    "collapsed": true
   },
   "outputs": [],
   "source": [
    "import matplotlib.pyplot as plt"
   ]
  },
  {
   "cell_type": "code",
   "execution_count": 17,
   "metadata": {
    "collapsed": true
   },
   "outputs": [],
   "source": [
    "all_set = pd.DataFrame(all_set)"
   ]
  },
  {
   "cell_type": "code",
   "execution_count": 18,
   "metadata": {
    "collapsed": false,
    "scrolled": false
   },
   "outputs": [],
   "source": [
    "from sklearn.preprocessing import StandardScaler\n",
    "stdscaler = StandardScaler()\n",
    "x_search = all_set[['search']].values.astype(float)\n",
    "std_search = stdscaler.fit_transform(x_search)"
   ]
  },
  {
   "cell_type": "code",
   "execution_count": 19,
   "metadata": {
    "collapsed": true
   },
   "outputs": [],
   "source": [
    "norm_log_close_diff = all_set[['log_close_diff']].values.astype(float)\n",
    "norm_log_close_diff = stdscaler.fit_transform(norm_log_close_diff)"
   ]
  },
  {
   "cell_type": "code",
   "execution_count": 20,
   "metadata": {
    "collapsed": true
   },
   "outputs": [],
   "source": [
    "all_set['std_search'] = std_search\n",
    "all_set['norm_log_close_diff'] = norm_log_close_diff"
   ]
  },
  {
   "cell_type": "code",
   "execution_count": 21,
   "metadata": {
    "collapsed": false
   },
   "outputs": [
    {
     "data": {
      "text/plain": [
       "<matplotlib.legend.Legend at 0x1a14f53908>"
      ]
     },
     "execution_count": 21,
     "metadata": {},
     "output_type": "execute_result"
    }
   ],
   "source": [
    "all_set['std_search'].plot()\n",
    "all_set['norm_log_close_diff'].plot()\n",
    "plt.legend(['std_search', 'norm_log_close_diff'])"
   ]
  },
  {
   "cell_type": "code",
   "execution_count": 22,
   "metadata": {
    "collapsed": false
   },
   "outputs": [
    {
     "data": {
      "image/png": "[encoded data removed]",
      "text/plain": [
       "<matplotlib.figure.Figure at 0x1a14f535c0>"
      ]
     },
     "metadata": {},
     "output_type": "display_data"
    }
   ],
   "source": [
    "plt.show()"
   ]
  },
  {
   "cell_type": "code",
   "execution_count": 23,
   "metadata": {
    "collapsed": false
   },
   "outputs": [
    {
     "data": {
      "text/plain": [
       "(-0.013384115992190006, 0.7543573183577515)"
      ]
     },
     "execution_count": 23,
     "metadata": {},
     "output_type": "execute_result"
    }
   ],
   "source": [
    "from scipy.stats import pearsonr\n",
    "pearsonr(all_set['std_search'], all_set['norm_log_close_diff'])"
   ]
  },
  {
   "cell_type": "code",
   "execution_count": 24,
   "metadata": {
    "collapsed": false
   },
   "outputs": [
    {
     "data": {
      "text/html": [
       "<div>\n",
       "<style scoped>\n",
       "    .dataframe tbody tr th:only-of-type {\n",
       "        vertical-align: middle;\n",
       "    }\n",
       "\n",
       "    .dataframe tbody tr th {\n",
       "        vertical-align: top;\n",
       "    }\n",
       "\n",
       "    .dataframe thead th {\n",
       "        text-align: right;\n",
       "    }\n",
       "</style>\n",
       "<table border=\"1\" class=\"dataframe\">\n",
       "  <thead>\n",
       "    <tr style=\"text-align: right;\">\n",
       "      <th></th>\n",
       "      <th>search</th>\n",
       "      <th>open</th>\n",
       "      <th>high</th>\n",
       "      <th>low</th>\n",
       "      <th>close</th>\n",
       "      <th>volume</th>\n",
       "      <th>adj_ratio</th>\n",
       "      <th>log_close</th>\n",
       "      <th>log_close_diff</th>\n",
       "      <th>std_search</th>\n",
       "      <th>norm_log_close_diff</th>\n",
       "    </tr>\n",
       "  </thead>\n",
       "  <tbody>\n",
       "    <tr>\n",
       "      <th>search</th>\n",
       "      <td>1.000000</td>\n",
       "      <td>0.116743</td>\n",
       "      <td>0.117859</td>\n",
       "      <td>0.116679</td>\n",
       "      <td>0.116977</td>\n",
       "      <td>0.058519</td>\n",
       "      <td>NaN</td>\n",
       "      <td>0.119421</td>\n",
       "      <td>-0.013384</td>\n",
       "      <td>1.000000</td>\n",
       "      <td>-0.013384</td>\n",
       "    </tr>\n",
       "    <tr>\n",
       "      <th>open</th>\n",
       "      <td>0.116743</td>\n",
       "      <td>1.000000</td>\n",
       "      <td>0.999313</td>\n",
       "      <td>0.999341</td>\n",
       "      <td>0.998559</td>\n",
       "      <td>0.014436</td>\n",
       "      <td>NaN</td>\n",
       "      <td>0.991974</td>\n",
       "      <td>-0.037363</td>\n",
       "      <td>0.116743</td>\n",
       "      <td>-0.037363</td>\n",
       "    </tr>\n",
       "    <tr>\n",
       "      <th>high</th>\n",
       "      <td>0.117859</td>\n",
       "      <td>0.999313</td>\n",
       "      <td>1.000000</td>\n",
       "      <td>0.999318</td>\n",
       "      <td>0.999290</td>\n",
       "      <td>0.027157</td>\n",
       "      <td>NaN</td>\n",
       "      <td>0.993080</td>\n",
       "      <td>-0.019871</td>\n",
       "      <td>0.117859</td>\n",
       "      <td>-0.019871</td>\n",
       "    </tr>\n",
       "    <tr>\n",
       "      <th>low</th>\n",
       "      <td>0.116679</td>\n",
       "      <td>0.999341</td>\n",
       "      <td>0.999318</td>\n",
       "      <td>1.000000</td>\n",
       "      <td>0.999452</td>\n",
       "      <td>0.006171</td>\n",
       "      <td>NaN</td>\n",
       "      <td>0.993294</td>\n",
       "      <td>-0.016900</td>\n",
       "      <td>0.116679</td>\n",
       "      <td>-0.016900</td>\n",
       "    </tr>\n",
       "    <tr>\n",
       "      <th>close</th>\n",
       "      <td>0.116977</td>\n",
       "      <td>0.998559</td>\n",
       "      <td>0.999290</td>\n",
       "      <td>0.999452</td>\n",
       "      <td>1.000000</td>\n",
       "      <td>0.012347</td>\n",
       "      <td>NaN</td>\n",
       "      <td>0.993983</td>\n",
       "      <td>0.002619</td>\n",
       "      <td>0.116977</td>\n",
       "      <td>0.002619</td>\n",
       "    </tr>\n",
       "    <tr>\n",
       "      <th>volume</th>\n",
       "      <td>0.058519</td>\n",
       "      <td>0.014436</td>\n",
       "      <td>0.027157</td>\n",
       "      <td>0.006171</td>\n",
       "      <td>0.012347</td>\n",
       "      <td>1.000000</td>\n",
       "      <td>NaN</td>\n",
       "      <td>0.021939</td>\n",
       "      <td>-0.068355</td>\n",
       "      <td>0.058519</td>\n",
       "      <td>-0.068355</td>\n",
       "    </tr>\n",
       "    <tr>\n",
       "      <th>adj_ratio</th>\n",
       "      <td>NaN</td>\n",
       "      <td>NaN</td>\n",
       "      <td>NaN</td>\n",
       "      <td>NaN</td>\n",
       "      <td>NaN</td>\n",
       "      <td>NaN</td>\n",
       "      <td>NaN</td>\n",
       "      <td>NaN</td>\n",
       "      <td>NaN</td>\n",
       "      <td>NaN</td>\n",
       "      <td>NaN</td>\n",
       "    </tr>\n",
       "    <tr>\n",
       "      <th>log_close</th>\n",
       "      <td>0.119421</td>\n",
       "      <td>0.991974</td>\n",
       "      <td>0.993080</td>\n",
       "      <td>0.993294</td>\n",
       "      <td>0.993983</td>\n",
       "      <td>0.021939</td>\n",
       "      <td>NaN</td>\n",
       "      <td>1.000000</td>\n",
       "      <td>0.005548</td>\n",
       "      <td>0.119421</td>\n",
       "      <td>0.005548</td>\n",
       "    </tr>\n",
       "    <tr>\n",
       "      <th>log_close_diff</th>\n",
       "      <td>-0.013384</td>\n",
       "      <td>-0.037363</td>\n",
       "      <td>-0.019871</td>\n",
       "      <td>-0.016900</td>\n",
       "      <td>0.002619</td>\n",
       "      <td>-0.068355</td>\n",
       "      <td>NaN</td>\n",
       "      <td>0.005548</td>\n",
       "      <td>1.000000</td>\n",
       "      <td>-0.013384</td>\n",
       "      <td>1.000000</td>\n",
       "    </tr>\n",
       "    <tr>\n",
       "      <th>std_search</th>\n",
       "      <td>1.000000</td>\n",
       "      <td>0.116743</td>\n",
       "      <td>0.117859</td>\n",
       "      <td>0.116679</td>\n",
       "      <td>0.116977</td>\n",
       "      <td>0.058519</td>\n",
       "      <td>NaN</td>\n",
       "      <td>0.119421</td>\n",
       "      <td>-0.013384</td>\n",
       "      <td>1.000000</td>\n",
       "      <td>-0.013384</td>\n",
       "    </tr>\n",
       "    <tr>\n",
       "      <th>norm_log_close_diff</th>\n",
       "      <td>-0.013384</td>\n",
       "      <td>-0.037363</td>\n",
       "      <td>-0.019871</td>\n",
       "      <td>-0.016900</td>\n",
       "      <td>0.002619</td>\n",
       "      <td>-0.068355</td>\n",
       "      <td>NaN</td>\n",
       "      <td>0.005548</td>\n",
       "      <td>1.000000</td>\n",
       "      <td>-0.013384</td>\n",
       "      <td>1.000000</td>\n",
       "    </tr>\n",
       "  </tbody>\n",
       "</table>\n",
       "</div>"
      ],
      "text/plain": [
       "                       search      open      high       low     close  \\\n",
       "search               1.000000  0.116743  0.117859  0.116679  0.116977   \n",
       "open                 0.116743  1.000000  0.999313  0.999341  0.998559   \n",
       "high                 0.117859  0.999313  1.000000  0.999318  0.999290   \n",
       "low                  0.116679  0.999341  0.999318  1.000000  0.999452   \n",
       "close                0.116977  0.998559  0.999290  0.999452  1.000000   \n",
       "volume               0.058519  0.014436  0.027157  0.006171  0.012347   \n",
       "adj_ratio                 NaN       NaN       NaN       NaN       NaN   \n",
       "log_close            0.119421  0.991974  0.993080  0.993294  0.993983   \n",
       "log_close_diff      -0.013384 -0.037363 -0.019871 -0.016900  0.002619   \n",
       "std_search           1.000000  0.116743  0.117859  0.116679  0.116977   \n",
       "norm_log_close_diff -0.013384 -0.037363 -0.019871 -0.016900  0.002619   \n",
       "\n",
       "                       volume  adj_ratio  log_close  log_close_diff  \\\n",
       "search               0.058519        NaN   0.119421       -0.013384   \n",
       "open                 0.014436        NaN   0.991974       -0.037363   \n",
       "high                 0.027157        NaN   0.993080       -0.019871   \n",
       "low                  0.006171        NaN   0.993294       -0.016900   \n",
       "close                0.012347        NaN   0.993983        0.002619   \n",
       "volume               1.000000        NaN   0.021939       -0.068355   \n",
       "adj_ratio                 NaN        NaN        NaN             NaN   \n",
       "log_close            0.021939        NaN   1.000000        0.005548   \n",
       "log_close_diff      -0.068355        NaN   0.005548        1.000000   \n",
       "std_search           0.058519        NaN   0.119421       -0.013384   \n",
       "norm_log_close_diff -0.068355        NaN   0.005548        1.000000   \n",
       "\n",
       "                     std_search  norm_log_close_diff  \n",
       "search                 1.000000            -0.013384  \n",
       "open                   0.116743            -0.037363  \n",
       "high                   0.117859            -0.019871  \n",
       "low                    0.116679            -0.016900  \n",
       "close                  0.116977             0.002619  \n",
       "volume                 0.058519            -0.068355  \n",
       "adj_ratio                   NaN                  NaN  \n",
       "log_close              0.119421             0.005548  \n",
       "log_close_diff        -0.013384             1.000000  \n",
       "std_search             1.000000            -0.013384  \n",
       "norm_log_close_diff   -0.013384             1.000000  "
      ]
     },
     "execution_count": 24,
     "metadata": {},
     "output_type": "execute_result"
    }
   ],
   "source": [
    "all_set.corr()"
   ]
  },
  {
   "cell_type": "code",
   "execution_count": null,
   "metadata": {
    "collapsed": true
   },
   "outputs": [],
   "source": []
  }
 ],
 "metadata": {
  "anaconda-cloud": {},
  "kernelspec": {
   "display_name": "Python [conda root]",
   "language": "python",
   "name": "conda-root-py"
  },
  "language_info": {
   "codemirror_mode": {
    "name": "ipython",
    "version": 3
   },
   "file_extension": ".py",
   "mimetype": "text/x-python",
   "name": "python",
   "nbconvert_exporter": "python",
   "pygments_lexer": "ipython3",
   "version": "3.5.2"
  }
 },
 "nbformat": 4,
 "nbformat_minor": 0
}
