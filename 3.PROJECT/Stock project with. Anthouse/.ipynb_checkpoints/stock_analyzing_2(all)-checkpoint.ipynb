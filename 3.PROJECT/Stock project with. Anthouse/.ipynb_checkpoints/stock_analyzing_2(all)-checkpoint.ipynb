{
 "cells": [
  {
   "cell_type": "code",
   "execution_count": 2,
   "metadata": {
    "collapsed": true
   },
   "outputs": [],
   "source": [
    "# 전날 종가가 상승했을 때 종가와 다음날 사이 수익률 비교\n",
    "import pandas as pd\n",
    "from antQuant.utils import DataManager"
   ]
  },
  {
   "cell_type": "code",
   "execution_count": 3,
   "metadata": {
    "collapsed": false
   },
   "outputs": [],
   "source": [
    "stock = DataManager()"
   ]
  },
  {
   "cell_type": "code",
   "execution_count": 4,
   "metadata": {
    "collapsed": true
   },
   "outputs": [],
   "source": [
    "data = stock.read_data('AH_DB', 'adjdailyohlcv',['date', 'code', 'close', 'open'], conditions = {'date': \"BETWEEN DATE ' 2016-01-01' AND DATE '2018-05-01'\"})"
   ]
  },
  {
   "cell_type": "code",
   "execution_count": 5,
   "metadata": {
    "collapsed": false
   },
   "outputs": [
    {
     "data": {
      "text/html": [
       "<div>\n",
       "<style scoped>\n",
       "    .dataframe tbody tr th:only-of-type {\n",
       "        vertical-align: middle;\n",
       "    }\n",
       "\n",
       "    .dataframe tbody tr th {\n",
       "        vertical-align: top;\n",
       "    }\n",
       "\n",
       "    .dataframe thead th {\n",
       "        text-align: right;\n",
       "    }\n",
       "</style>\n",
       "<table border=\"1\" class=\"dataframe\">\n",
       "  <thead>\n",
       "    <tr style=\"text-align: right;\">\n",
       "      <th></th>\n",
       "      <th>date</th>\n",
       "      <th>code</th>\n",
       "      <th>close</th>\n",
       "      <th>open</th>\n",
       "    </tr>\n",
       "  </thead>\n",
       "  <tbody>\n",
       "    <tr>\n",
       "      <th>0</th>\n",
       "      <td>2016-01-04</td>\n",
       "      <td>001040</td>\n",
       "      <td>244000.0</td>\n",
       "      <td>247500.0</td>\n",
       "    </tr>\n",
       "    <tr>\n",
       "      <th>1</th>\n",
       "      <td>2016-01-04</td>\n",
       "      <td>001045</td>\n",
       "      <td>123500.0</td>\n",
       "      <td>128000.0</td>\n",
       "    </tr>\n",
       "    <tr>\n",
       "      <th>2</th>\n",
       "      <td>2016-01-04</td>\n",
       "      <td>001210</td>\n",
       "      <td>12791.4</td>\n",
       "      <td>12890.6</td>\n",
       "    </tr>\n",
       "    <tr>\n",
       "      <th>3</th>\n",
       "      <td>2016-01-04</td>\n",
       "      <td>001420</td>\n",
       "      <td>3825.0</td>\n",
       "      <td>3800.0</td>\n",
       "    </tr>\n",
       "    <tr>\n",
       "      <th>4</th>\n",
       "      <td>2016-01-04</td>\n",
       "      <td>001689</td>\n",
       "      <td>32050.0</td>\n",
       "      <td>32050.0</td>\n",
       "    </tr>\n",
       "  </tbody>\n",
       "</table>\n",
       "</div>"
      ],
      "text/plain": [
       "        date    code     close      open\n",
       "0 2016-01-04  001040  244000.0  247500.0\n",
       "1 2016-01-04  001045  123500.0  128000.0\n",
       "2 2016-01-04  001210   12791.4   12890.6\n",
       "3 2016-01-04  001420    3825.0    3800.0\n",
       "4 2016-01-04  001689   32050.0   32050.0"
      ]
     },
     "execution_count": 5,
     "metadata": {},
     "output_type": "execute_result"
    }
   ],
   "source": [
    "data.date = pd.to_datetime(data.date)\n",
    "data.head()"
   ]
  },
  {
   "cell_type": "code",
   "execution_count": 8,
   "metadata": {
    "collapsed": false
   },
   "outputs": [
    {
     "data": {
      "text/html": [
       "<div>\n",
       "<style scoped>\n",
       "    .dataframe tbody tr th:only-of-type {\n",
       "        vertical-align: middle;\n",
       "    }\n",
       "\n",
       "    .dataframe tbody tr th {\n",
       "        vertical-align: top;\n",
       "    }\n",
       "\n",
       "    .dataframe thead th {\n",
       "        text-align: right;\n",
       "    }\n",
       "</style>\n",
       "<table border=\"1\" class=\"dataframe\">\n",
       "  <thead>\n",
       "    <tr style=\"text-align: right;\">\n",
       "      <th></th>\n",
       "      <th></th>\n",
       "      <th>close</th>\n",
       "      <th>open</th>\n",
       "    </tr>\n",
       "    <tr>\n",
       "      <th>date</th>\n",
       "      <th>code</th>\n",
       "      <th></th>\n",
       "      <th></th>\n",
       "    </tr>\n",
       "  </thead>\n",
       "  <tbody>\n",
       "    <tr>\n",
       "      <th rowspan=\"5\" valign=\"top\">2016-01-04</th>\n",
       "      <th>001040</th>\n",
       "      <td>244000.0</td>\n",
       "      <td>247500.0</td>\n",
       "    </tr>\n",
       "    <tr>\n",
       "      <th>001045</th>\n",
       "      <td>123500.0</td>\n",
       "      <td>128000.0</td>\n",
       "    </tr>\n",
       "    <tr>\n",
       "      <th>001210</th>\n",
       "      <td>12791.4</td>\n",
       "      <td>12890.6</td>\n",
       "    </tr>\n",
       "    <tr>\n",
       "      <th>001420</th>\n",
       "      <td>3825.0</td>\n",
       "      <td>3800.0</td>\n",
       "    </tr>\n",
       "    <tr>\n",
       "      <th>001689</th>\n",
       "      <td>32050.0</td>\n",
       "      <td>32050.0</td>\n",
       "    </tr>\n",
       "  </tbody>\n",
       "</table>\n",
       "</div>"
      ],
      "text/plain": [
       "                      close      open\n",
       "date       code                      \n",
       "2016-01-04 001040  244000.0  247500.0\n",
       "           001045  123500.0  128000.0\n",
       "           001210   12791.4   12890.6\n",
       "           001420    3825.0    3800.0\n",
       "           001689   32050.0   32050.0"
      ]
     },
     "execution_count": 8,
     "metadata": {},
     "output_type": "execute_result"
    }
   ],
   "source": [
    "data.set_index(['date', 'code'], inplace=True)\n",
    "data.head()"
   ]
  },
  {
   "cell_type": "code",
   "execution_count": 9,
   "metadata": {
    "collapsed": true
   },
   "outputs": [],
   "source": [
    "import numpy as np"
   ]
  },
  {
   "cell_type": "code",
   "execution_count": 10,
   "metadata": {
    "collapsed": false
   },
   "outputs": [
    {
     "data": {
      "text/html": [
       "<div>\n",
       "<style scoped>\n",
       "    .dataframe tbody tr th:only-of-type {\n",
       "        vertical-align: middle;\n",
       "    }\n",
       "\n",
       "    .dataframe tbody tr th {\n",
       "        vertical-align: top;\n",
       "    }\n",
       "\n",
       "    .dataframe thead th {\n",
       "        text-align: right;\n",
       "    }\n",
       "</style>\n",
       "<table border=\"1\" class=\"dataframe\">\n",
       "  <thead>\n",
       "    <tr style=\"text-align: right;\">\n",
       "      <th></th>\n",
       "      <th></th>\n",
       "      <th>close</th>\n",
       "      <th>open</th>\n",
       "      <th>opend1</th>\n",
       "    </tr>\n",
       "    <tr>\n",
       "      <th>date</th>\n",
       "      <th>code</th>\n",
       "      <th></th>\n",
       "      <th></th>\n",
       "      <th></th>\n",
       "    </tr>\n",
       "  </thead>\n",
       "  <tbody>\n",
       "    <tr>\n",
       "      <th rowspan=\"5\" valign=\"top\">2016-01-04</th>\n",
       "      <th>001040</th>\n",
       "      <td>244000.0</td>\n",
       "      <td>247500.0</td>\n",
       "      <td>241500.0</td>\n",
       "    </tr>\n",
       "    <tr>\n",
       "      <th>001045</th>\n",
       "      <td>123500.0</td>\n",
       "      <td>128000.0</td>\n",
       "      <td>124500.0</td>\n",
       "    </tr>\n",
       "    <tr>\n",
       "      <th>001210</th>\n",
       "      <td>12791.4</td>\n",
       "      <td>12890.6</td>\n",
       "      <td>12494.0</td>\n",
       "    </tr>\n",
       "    <tr>\n",
       "      <th>001420</th>\n",
       "      <td>3825.0</td>\n",
       "      <td>3800.0</td>\n",
       "      <td>3705.0</td>\n",
       "    </tr>\n",
       "    <tr>\n",
       "      <th>001689</th>\n",
       "      <td>32050.0</td>\n",
       "      <td>32050.0</td>\n",
       "      <td>31650.0</td>\n",
       "    </tr>\n",
       "  </tbody>\n",
       "</table>\n",
       "</div>"
      ],
      "text/plain": [
       "                      close      open    opend1\n",
       "date       code                                \n",
       "2016-01-04 001040  244000.0  247500.0  241500.0\n",
       "           001045  123500.0  128000.0  124500.0\n",
       "           001210   12791.4   12890.6   12494.0\n",
       "           001420    3825.0    3800.0    3705.0\n",
       "           001689   32050.0   32050.0   31650.0"
      ]
     },
     "execution_count": 10,
     "metadata": {},
     "output_type": "execute_result"
    }
   ],
   "source": [
    "# 다음날 시가를 당일 종가로 맞추기\n",
    "data['opend1'] = data['open'].groupby(level=1).shift(-1)\n",
    "data.head()"
   ]
  },
  {
   "cell_type": "code",
   "execution_count": 11,
   "metadata": {
    "collapsed": false
   },
   "outputs": [
    {
     "name": "stderr",
     "output_type": "stream",
     "text": [
      "//anaconda/lib/python3.5/site-packages/ipykernel/__main__.py:1: RuntimeWarning: divide by zero encountered in log\n",
      "  if __name__ == '__main__':\n"
     ]
    },
    {
     "data": {
      "text/html": [
       "<div>\n",
       "<style scoped>\n",
       "    .dataframe tbody tr th:only-of-type {\n",
       "        vertical-align: middle;\n",
       "    }\n",
       "\n",
       "    .dataframe tbody tr th {\n",
       "        vertical-align: top;\n",
       "    }\n",
       "\n",
       "    .dataframe thead th {\n",
       "        text-align: right;\n",
       "    }\n",
       "</style>\n",
       "<table border=\"1\" class=\"dataframe\">\n",
       "  <thead>\n",
       "    <tr style=\"text-align: right;\">\n",
       "      <th></th>\n",
       "      <th></th>\n",
       "      <th>close</th>\n",
       "      <th>open</th>\n",
       "      <th>opend1</th>\n",
       "      <th>returns</th>\n",
       "    </tr>\n",
       "    <tr>\n",
       "      <th>date</th>\n",
       "      <th>code</th>\n",
       "      <th></th>\n",
       "      <th></th>\n",
       "      <th></th>\n",
       "      <th></th>\n",
       "    </tr>\n",
       "  </thead>\n",
       "  <tbody>\n",
       "    <tr>\n",
       "      <th rowspan=\"5\" valign=\"top\">2016-01-04</th>\n",
       "      <th>001040</th>\n",
       "      <td>244000.0</td>\n",
       "      <td>247500.0</td>\n",
       "      <td>241500.0</td>\n",
       "      <td>-0.010299</td>\n",
       "    </tr>\n",
       "    <tr>\n",
       "      <th>001045</th>\n",
       "      <td>123500.0</td>\n",
       "      <td>128000.0</td>\n",
       "      <td>124500.0</td>\n",
       "      <td>0.008065</td>\n",
       "    </tr>\n",
       "    <tr>\n",
       "      <th>001210</th>\n",
       "      <td>12791.4</td>\n",
       "      <td>12890.6</td>\n",
       "      <td>12494.0</td>\n",
       "      <td>-0.023525</td>\n",
       "    </tr>\n",
       "    <tr>\n",
       "      <th>001420</th>\n",
       "      <td>3825.0</td>\n",
       "      <td>3800.0</td>\n",
       "      <td>3705.0</td>\n",
       "      <td>-0.031875</td>\n",
       "    </tr>\n",
       "    <tr>\n",
       "      <th>001689</th>\n",
       "      <td>32050.0</td>\n",
       "      <td>32050.0</td>\n",
       "      <td>31650.0</td>\n",
       "      <td>-0.012559</td>\n",
       "    </tr>\n",
       "  </tbody>\n",
       "</table>\n",
       "</div>"
      ],
      "text/plain": [
       "                      close      open    opend1   returns\n",
       "date       code                                          \n",
       "2016-01-04 001040  244000.0  247500.0  241500.0 -0.010299\n",
       "           001045  123500.0  128000.0  124500.0  0.008065\n",
       "           001210   12791.4   12890.6   12494.0 -0.023525\n",
       "           001420    3825.0    3800.0    3705.0 -0.031875\n",
       "           001689   32050.0   32050.0   31650.0 -0.012559"
      ]
     },
     "execution_count": 11,
     "metadata": {},
     "output_type": "execute_result"
    }
   ],
   "source": [
    "data['returns'] = np.log(data['opend1']/data['close'])\n",
    "data = data[(data['returns']!=np.inf)&(data['returns']!=-np.inf)]\n",
    "data.head()"
   ]
  },
  {
   "cell_type": "code",
   "execution_count": 19,
   "metadata": {
    "collapsed": false
   },
   "outputs": [
    {
     "data": {
      "text/html": [
       "<div>\n",
       "<style scoped>\n",
       "    .dataframe tbody tr th:only-of-type {\n",
       "        vertical-align: middle;\n",
       "    }\n",
       "\n",
       "    .dataframe tbody tr th {\n",
       "        vertical-align: top;\n",
       "    }\n",
       "\n",
       "    .dataframe thead th {\n",
       "        text-align: right;\n",
       "    }\n",
       "</style>\n",
       "<table border=\"1\" class=\"dataframe\">\n",
       "  <thead>\n",
       "    <tr style=\"text-align: right;\">\n",
       "      <th></th>\n",
       "      <th></th>\n",
       "      <th>close</th>\n",
       "      <th>open</th>\n",
       "      <th>opend1</th>\n",
       "      <th>returns</th>\n",
       "      <th>diff</th>\n",
       "    </tr>\n",
       "    <tr>\n",
       "      <th>date</th>\n",
       "      <th>code</th>\n",
       "      <th></th>\n",
       "      <th></th>\n",
       "      <th></th>\n",
       "      <th></th>\n",
       "      <th></th>\n",
       "    </tr>\n",
       "  </thead>\n",
       "  <tbody>\n",
       "    <tr>\n",
       "      <th rowspan=\"5\" valign=\"top\">2016-01-04</th>\n",
       "      <th>001040</th>\n",
       "      <td>244000.0</td>\n",
       "      <td>247500.0</td>\n",
       "      <td>241500.0</td>\n",
       "      <td>-0.010299</td>\n",
       "      <td>-3500.0</td>\n",
       "    </tr>\n",
       "    <tr>\n",
       "      <th>001045</th>\n",
       "      <td>123500.0</td>\n",
       "      <td>128000.0</td>\n",
       "      <td>124500.0</td>\n",
       "      <td>0.008065</td>\n",
       "      <td>-4500.0</td>\n",
       "    </tr>\n",
       "    <tr>\n",
       "      <th>001210</th>\n",
       "      <td>12791.4</td>\n",
       "      <td>12890.6</td>\n",
       "      <td>12494.0</td>\n",
       "      <td>-0.023525</td>\n",
       "      <td>-99.2</td>\n",
       "    </tr>\n",
       "    <tr>\n",
       "      <th>001420</th>\n",
       "      <td>3825.0</td>\n",
       "      <td>3800.0</td>\n",
       "      <td>3705.0</td>\n",
       "      <td>-0.031875</td>\n",
       "      <td>25.0</td>\n",
       "    </tr>\n",
       "    <tr>\n",
       "      <th>001689</th>\n",
       "      <td>32050.0</td>\n",
       "      <td>32050.0</td>\n",
       "      <td>31650.0</td>\n",
       "      <td>-0.012559</td>\n",
       "      <td>0.0</td>\n",
       "    </tr>\n",
       "  </tbody>\n",
       "</table>\n",
       "</div>"
      ],
      "text/plain": [
       "                      close      open    opend1   returns    diff\n",
       "date       code                                                  \n",
       "2016-01-04 001040  244000.0  247500.0  241500.0 -0.010299 -3500.0\n",
       "           001045  123500.0  128000.0  124500.0  0.008065 -4500.0\n",
       "           001210   12791.4   12890.6   12494.0 -0.023525   -99.2\n",
       "           001420    3825.0    3800.0    3705.0 -0.031875    25.0\n",
       "           001689   32050.0   32050.0   31650.0 -0.012559     0.0"
      ]
     },
     "execution_count": 19,
     "metadata": {},
     "output_type": "execute_result"
    }
   ],
   "source": [
    "data['diff'] = data['close'] - data['open']\n",
    "data['returns'].dropna()\n",
    "data.head()"
   ]
  },
  {
   "cell_type": "code",
   "execution_count": 33,
   "metadata": {
    "collapsed": false,
    "scrolled": true
   },
   "outputs": [
    {
     "name": "stdout",
     "output_type": "stream",
     "text": [
      "sum of returns: 448.97102985158057\n",
      "count    589796.000000\n",
      "mean          0.000761\n",
      "std           0.023911\n",
      "min          -2.353969\n",
      "25%          -0.003401\n",
      "50%           0.000000\n",
      "75%           0.005676\n",
      "max           4.598801\n",
      "Name: returns, dtype: float64\n"
     ]
    }
   ],
   "source": [
    "# 전날 종가가 상승했을 때 리턴값\n",
    "data[data['diff'] > 0]['returns'].dropna()\n",
    "print('sum of returns: {0}'.format(data[data['diff'] > 0]['returns'].dropna().sum()))\n",
    "print(data[data['diff'] > 0]['returns'].dropna().describe())"
   ]
  },
  {
   "cell_type": "code",
   "execution_count": 34,
   "metadata": {
    "collapsed": false
   },
   "outputs": [
    {
     "name": "stdout",
     "output_type": "stream",
     "text": [
      "sum of returns: 765.6067090951924\n",
      "count    673111.000000\n",
      "mean          0.001137\n",
      "std           0.018376\n",
      "min          -1.473482\n",
      "25%          -0.003454\n",
      "50%           0.000000\n",
      "75%           0.005489\n",
      "max           0.867501\n",
      "Name: returns, dtype: float64\n"
     ]
    }
   ],
   "source": [
    "# 전날 종가가 상승했을 때 리턴값\n",
    "data[data['diff'] < 0]['returns'].dropna()\n",
    "print('sum of returns: {0}'.format(data[data['diff'] < 0]['returns'].dropna().sum()))\n",
    "print(data[data['diff'] < 0]['returns'].dropna().describe())"
   ]
  },
  {
   "cell_type": "code",
   "execution_count": null,
   "metadata": {
    "collapsed": true
   },
   "outputs": [],
   "source": []
  }
 ],
 "metadata": {
  "anaconda-cloud": {},
  "kernelspec": {
   "display_name": "Python [conda root]",
   "language": "python",
   "name": "conda-root-py"
  },
  "language_info": {
   "codemirror_mode": {
    "name": "ipython",
    "version": 3
   },
   "file_extension": ".py",
   "mimetype": "text/x-python",
   "name": "python",
   "nbconvert_exporter": "python",
   "pygments_lexer": "ipython3",
   "version": "3.5.2"
  }
 },
 "nbformat": 4,
 "nbformat_minor": 0
}
