{
 "cells": [
  {
   "cell_type": "code",
   "execution_count": 1,
   "metadata": {
    "collapsed": true
   },
   "outputs": [
    {
     "name": "stderr",
     "output_type": "stream",
     "text": [
      "Using TensorFlow backend.\n"
     ]
    },
    {
     "name": "stderr",
     "output_type": "stream",
     "text": [
      "/anaconda/lib/python3.5/site-packages/pandas/io/data.py:35: FutureWarning: \nThe pandas.io.data module is moved to a separate package (pandas-datareader) and will be removed from pandas in a future version.\nAfter installing the pandas-datareader package (https://github.com/pydata/pandas-datareader), you can change the import ``from pandas.io import data, wb`` to ``from pandas_datareader import data, wb``.\n  FutureWarning)\n"
     ]
    }
   ],
   "source": [
    "import numpy as np\n",
    "import matplotlib.pyplot as plt\n",
    "from pandas import read_csv,Series, DataFrame\n",
    "import math\n",
    "from keras import optimizers\n",
    "from keras.models import Sequential\n",
    "from keras.layers import Dense, Dropout\n",
    "from keras.layers import LSTM\n",
    "from sklearn.preprocessing import MinMaxScaler\n",
    "from sklearn.metrics import mean_squared_error\n",
    "import pandas.io.data as web\n",
    "import datetime\n",
    "import tensorflow as tf\n",
    "from sklearn import svm, preprocessing\n",
    "import matplotlib.pyplot as plt\n",
    "import math\n",
    "%matplotlib inline\n",
    "np.set_printoptions(threshold=np.inf)"
   ]
  },
  {
   "cell_type": "code",
   "execution_count": 2,
   "metadata": {},
   "outputs": [],
   "source": [
    "class KOSPIDATA:\n",
    "\n",
    "    def __init__(self):\n",
    "        start = datetime.datetime(1998, 5, 1)\n",
    "        end = datetime.datetime(2016, 12, 31)\n",
    "        kospi = web.DataReader(\"^KS11\", \"yahoo\", start, end)\n",
    "\n",
    "        self.arr_date= np.array(kospi.index)\n",
    "        self.arr_open = np.array(kospi['Open'], dtype=float)\n",
    "        self.arr_close= np.array(kospi['Adj Close'], dtype=float)\n",
    "        self.arr_high= np.array(kospi.High, dtype=float)\n",
    "        self.arr_low= np.array(kospi.Low, dtype=float)\n",
    "        self.arr_volume= np.array(kospi.Volume, dtype=float)"
   ]
  },
  {
   "cell_type": "code",
   "execution_count": null,
   "metadata": {},
   "outputs": [],
   "source": [
    "K = KOSPIDATA()\n",
    "\n",
    "# FEATURES = ['high', 'low', 'open', 'close', 'volume']\n",
    "FEATURES = ['high', 'low', 'open', 'close']\n",
    "\n",
    "data = {'year': K.arr_date,\n",
    "        'open': K.arr_open,\n",
    "        'high': K.arr_high,\n",
    "        'low': K.arr_low,\n",
    "        'close': K.arr_close}\n",
    "\n",
    "# df = DataFrame(data, columns=['year', 'high', 'low', 'open', 'close'])\n",
    "df = DataFrame(data, columns=['year','close'])"
   ]
  },
  {
   "cell_type": "code",
   "execution_count": null,
   "metadata": {},
   "outputs": [],
   "source": [
    "diff = []\n",
    "for i in range(len(df['close']) - 1):\n",
    "    t = (df['close'][i + 1] - df['close'][i]) / (df['close'][i])\n",
    "    diff.append(t)\n",
    "\n",
    "ddd = np.array(diff)\n",
    "ddd = np.reshape(ddd, (4617, 1))"
   ]
  },
  {
   "cell_type": "code",
   "execution_count": null,
   "metadata": {},
   "outputs": [],
   "source": [
    "def create_dataset(dataset, look_back=3):\n",
    "    dataX, dataY = [], []\n",
    "    for i in range(len(dataset)-look_back-1):\n",
    "        a = dataset[i:(i+look_back)]\n",
    "        dataX.append(a)\n",
    "        \n",
    "        if dataset[i+look_back] > dataset[i+look_back-1]:    \n",
    "            dataY.append(1)\n",
    "        elif dataset[i+look_back] <= dataset[i+look_back-1]:    \n",
    "            dataY.append(0)\n",
    "\n",
    "    return np.array(dataX), np.array(dataY)"
   ]
  }
 ],
 "metadata": {
  "kernelspec": {
   "display_name": "Python 2",
   "language": "python",
   "name": "python2"
  },
  "language_info": {
   "codemirror_mode": {
    "name": "ipython",
    "version": 2
   },
   "file_extension": ".py",
   "mimetype": "text/x-python",
   "name": "python",
   "nbconvert_exporter": "python",
   "pygments_lexer": "ipython2",
   "version": "2.7.6"
  }
 },
 "nbformat": 4,
 "nbformat_minor": 0
}
