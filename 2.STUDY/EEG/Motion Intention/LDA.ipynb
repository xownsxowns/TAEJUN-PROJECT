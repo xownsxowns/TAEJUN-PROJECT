{
 "cells": [
  {
   "cell_type": "code",
   "execution_count": 22,
   "metadata": {
    "collapsed": true
   },
   "outputs": [],
   "source": [
    "from scipy import io\n",
    "import numpy as np"
   ]
  },
  {
   "cell_type": "code",
   "execution_count": 23,
   "metadata": {
    "collapsed": true
   },
   "outputs": [],
   "source": [
    "X = io.loadmat('origin_X.mat')\n",
    "Y = io.loadmat('origin_Y.mat')"
   ]
  },
  {
   "cell_type": "code",
   "execution_count": 24,
   "metadata": {
    "collapsed": false
   },
   "outputs": [],
   "source": [
    "Data_X = X['X']\n",
    "Data_Y = Y['Y']"
   ]
  },
  {
   "cell_type": "code",
   "execution_count": 25,
   "metadata": {
    "collapsed": false
   },
   "outputs": [],
   "source": [
    "import pandas as pd"
   ]
  },
  {
   "cell_type": "code",
   "execution_count": 26,
   "metadata": {
    "collapsed": true
   },
   "outputs": [],
   "source": [
    "Data_X = pd.DataFrame(Data_X)\n",
    "Data_Y = pd.DataFrame(Data_Y)"
   ]
  },
  {
   "cell_type": "code",
   "execution_count": 27,
   "metadata": {
    "collapsed": false
   },
   "outputs": [],
   "source": [
    "Label = pd.DataFrame(-np.ones(np.shape(Data_Y)))"
   ]
  },
  {
   "cell_type": "code",
   "execution_count": 28,
   "metadata": {
    "collapsed": true
   },
   "outputs": [],
   "source": [
    "Label.loc[Data_Y[0] != 5] = 1"
   ]
  },
  {
   "cell_type": "code",
   "execution_count": 29,
   "metadata": {
    "collapsed": true
   },
   "outputs": [],
   "source": [
    "import math"
   ]
  },
  {
   "cell_type": "code",
   "execution_count": 30,
   "metadata": {
    "collapsed": false
   },
   "outputs": [],
   "source": [
    "num_folds = 10\n",
    "subset_size = math.trunc(len(Data_X)/num_folds)"
   ]
  },
  {
   "cell_type": "code",
   "execution_count": 31,
   "metadata": {
    "collapsed": false
   },
   "outputs": [
    {
     "data": {
      "text/plain": [
       "5920"
      ]
     },
     "execution_count": 31,
     "metadata": {},
     "output_type": "execute_result"
    }
   ],
   "source": [
    "subset_size"
   ]
  },
  {
   "cell_type": "code",
   "execution_count": 32,
   "metadata": {
    "collapsed": true
   },
   "outputs": [],
   "source": [
    "Data_X = np.array(Data_X)\n",
    "Label = np.array(Label)"
   ]
  },
  {
   "cell_type": "code",
   "execution_count": 33,
   "metadata": {
    "collapsed": true
   },
   "outputs": [],
   "source": [
    "from sklearn.model_selection import KFold"
   ]
  },
  {
   "cell_type": "code",
   "execution_count": 34,
   "metadata": {
    "collapsed": true
   },
   "outputs": [],
   "source": [
    "kf = KFold(n_splits=10)"
   ]
  },
  {
   "cell_type": "code",
   "execution_count": 35,
   "metadata": {
    "collapsed": false
   },
   "outputs": [],
   "source": [
    "from sklearn.discriminant_analysis import QuadraticDiscriminantAnalysis"
   ]
  },
  {
   "cell_type": "code",
   "execution_count": 36,
   "metadata": {
    "collapsed": true
   },
   "outputs": [],
   "source": [
    "from sklearn.discriminant_analysis import LinearDiscriminantAnalysis"
   ]
  },
  {
   "cell_type": "code",
   "execution_count": 37,
   "metadata": {
    "collapsed": true
   },
   "outputs": [],
   "source": [
    "from sklearn.metrics import confusion_matrix"
   ]
  },
  {
   "cell_type": "code",
   "execution_count": 38,
   "metadata": {
    "collapsed": true
   },
   "outputs": [],
   "source": [
    "confu_mat = list()"
   ]
  },
  {
   "cell_type": "code",
   "execution_count": 39,
   "metadata": {
    "collapsed": false
   },
   "outputs": [
    {
     "name": "stdout",
     "output_type": "stream",
     "text": [
      "0.9003546698192872\n",
      "[[5320   36]\n",
      " [ 554   11]]\n",
      "0.9108258740077689\n",
      "[[5388   23]\n",
      " [ 505    5]]\n",
      "0.9032258064516129\n",
      "[[5341   35]\n",
      " [ 538    7]]\n",
      "0.900523560209424\n",
      "[[5324   42]\n",
      " [ 547    8]]\n",
      "0.9072791758148961\n",
      "[[5365   36]\n",
      " [ 513    7]]\n",
      "0.90625\n",
      "[[5360   25]\n",
      " [ 530    5]]\n",
      "0.8993243243243243\n",
      "[[5320   40]\n",
      " [ 556    4]]\n",
      "0.9070945945945946\n",
      "[[5357   43]\n",
      " [ 507   13]]\n",
      "0.9054054054054054\n",
      "[[5354   26]\n",
      " [ 534    6]]\n",
      "0.9018581081081081\n",
      "[[5332   38]\n",
      " [ 543    7]]\n"
     ]
    }
   ],
   "source": [
    "for train_index, test_index in kf.split(Data_X):\n",
    "    X_train, X_test = Data_X[train_index], Data_X[test_index]\n",
    "    y_train, y_test = Label[train_index], Label[test_index]\n",
    "    y_train = np.ravel(y_train)\n",
    "    \n",
    "    clf = QuadraticDiscriminantAnalysis()\n",
    "    clf.fit(X_train, y_train)\n",
    "    \n",
    "    y_pred = clf.predict(X_test)\n",
    "    score  = clf.score(X_test, y_test)\n",
    "    print(score)\n",
    "    \n",
    "    conmat = confusion_matrix(y_test, y_pred)\n",
    "    confu_mat.append(conmat)\n",
    "    print(conmat)"
   ]
  },
  {
   "cell_type": "code",
   "execution_count": 40,
   "metadata": {
    "collapsed": true
   },
   "outputs": [],
   "source": [
    "sum_confu = sum(confu_mat)\n",
    "specificity = sum_confu[0,0] / (sum_confu[0,0]+sum_confu[0,1])\n",
    "sensitivity = sum_confu[1,1] / (sum_confu[1,1]+sum_confu[1,0])"
   ]
  },
  {
   "cell_type": "code",
   "execution_count": 41,
   "metadata": {
    "collapsed": false
   },
   "outputs": [
    {
     "data": {
      "text/plain": [
       "array([[53461,   344],\n",
       "       [ 5327,    73]])"
      ]
     },
     "execution_count": 41,
     "metadata": {},
     "output_type": "execute_result"
    }
   ],
   "source": [
    "sum_confu"
   ]
  },
  {
   "cell_type": "code",
   "execution_count": 42,
   "metadata": {
    "collapsed": false
   },
   "outputs": [
    {
     "name": "stdout",
     "output_type": "stream",
     "text": [
      "specificity: 0.9936065421429235, sensitivity: 0.013518518518518518\n"
     ]
    }
   ],
   "source": [
    "print('specificity: {0}, sensitivity: {1}'.format(specificity,sensitivity))"
   ]
  },
  {
   "cell_type": "code",
   "execution_count": null,
   "metadata": {
    "collapsed": true
   },
   "outputs": [],
   "source": []
  },
  {
   "cell_type": "code",
   "execution_count": null,
   "metadata": {
    "collapsed": true
   },
   "outputs": [],
   "source": []
  }
 ],
 "metadata": {
  "anaconda-cloud": {},
  "kernelspec": {
   "display_name": "Python [default]",
   "language": "python",
   "name": "python3"
  },
  "language_info": {
   "codemirror_mode": {
    "name": "ipython",
    "version": 3
   },
   "file_extension": ".py",
   "mimetype": "text/x-python",
   "name": "python",
   "nbconvert_exporter": "python",
   "pygments_lexer": "ipython3",
   "version": "3.5.2"
  }
 },
 "nbformat": 4,
 "nbformat_minor": 0
}
