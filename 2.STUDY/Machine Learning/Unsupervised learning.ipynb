{
 "cells": [
  {
   "cell_type": "code",
   "execution_count": 1,
   "metadata": {},
   "outputs": [
    {
     "ename": "AttributeError",
     "evalue": "module 'scipy' has no attribute 'spatial'",
     "traceback": [
      "\u001b[1;31m---------------------------------------------------------------------------\u001b[0m",
      "\u001b[1;31mAttributeError\u001b[0m                            Traceback (most recent call last)",
      "\u001b[1;32m<ipython-input-1-bcea0fea14e7>\u001b[0m in \u001b[0;36m<module>\u001b[1;34m()\u001b[0m\n\u001b[0;32m      4\u001b[0m \u001b[0md\u001b[0m \u001b[1;33m=\u001b[0m \u001b[1;36m500\u001b[0m\u001b[1;33m\u001b[0m\u001b[0m\n\u001b[0;32m      5\u001b[0m \u001b[0mdata\u001b[0m \u001b[1;33m=\u001b[0m \u001b[0mnumpy\u001b[0m\u001b[1;33m.\u001b[0m\u001b[0mrandom\u001b[0m\u001b[1;33m.\u001b[0m\u001b[0muniform\u001b[0m\u001b[1;33m(\u001b[0m\u001b[0msize\u001b[0m\u001b[1;33m=\u001b[0m\u001b[0md\u001b[0m\u001b[1;33m*\u001b[0m\u001b[1;36m1000\u001b[0m\u001b[1;33m)\u001b[0m\u001b[1;33m.\u001b[0m\u001b[0mreshape\u001b[0m\u001b[1;33m(\u001b[0m\u001b[1;33m(\u001b[0m\u001b[1;36m1000\u001b[0m\u001b[1;33m,\u001b[0m\u001b[0md\u001b[0m\u001b[1;33m)\u001b[0m\u001b[1;33m)\u001b[0m\u001b[1;33m\u001b[0m\u001b[0m\n\u001b[1;32m----> 6\u001b[1;33m \u001b[0mdistances\u001b[0m \u001b[1;33m=\u001b[0m \u001b[0mscipy\u001b[0m\u001b[1;33m.\u001b[0m\u001b[0mspatial\u001b[0m\u001b[1;33m.\u001b[0m\u001b[0mdistance\u001b[0m\u001b[1;33m.\u001b[0m\u001b[0mcdist\u001b[0m\u001b[1;33m(\u001b[0m\u001b[0mdata\u001b[0m\u001b[1;33m,\u001b[0m \u001b[0mdata\u001b[0m\u001b[1;33m)\u001b[0m\u001b[1;33m\u001b[0m\u001b[0m\n\u001b[0m\u001b[0;32m      7\u001b[0m \u001b[0mpd\u001b[0m\u001b[1;33m.\u001b[0m\u001b[0mSeries\u001b[0m\u001b[1;33m(\u001b[0m\u001b[0mdistances\u001b[0m\u001b[1;33m.\u001b[0m\u001b[0mreshape\u001b[0m\u001b[1;33m(\u001b[0m\u001b[1;36m1000000\u001b[0m\u001b[1;33m)\u001b[0m\u001b[1;33m)\u001b[0m\u001b[1;33m.\u001b[0m\u001b[0mhist\u001b[0m\u001b[1;33m(\u001b[0m\u001b[0mbins\u001b[0m\u001b[1;33m=\u001b[0m\u001b[1;36m50\u001b[0m\u001b[1;33m)\u001b[0m\u001b[1;33m\u001b[0m\u001b[0m\n\u001b[0;32m      8\u001b[0m \u001b[0mplt\u001b[0m\u001b[1;33m.\u001b[0m\u001b[0mtitle\u001b[0m\u001b[1;33m(\u001b[0m\u001b[1;34m\"%i차원 공간에서 점 간 거리\"\u001b[0m \u001b[1;33m%\u001b[0m\u001b[0md\u001b[0m\u001b[1;33m)\u001b[0m\u001b[1;33m\u001b[0m\u001b[0m\n",
      "\u001b[1;31mAttributeError\u001b[0m: module 'scipy' has no attribute 'spatial'"
     ],
     "output_type": "error"
    }
   ],
   "source": [
    "# 고차원의 저주\n",
    "# 고차원이 되면 우리가 직관적으로 이해할 수 없는 특징이 생기고, 결과적으로 알고리즘이 잘 작동하지 않는다.\n",
    "import numpy, scipy\n",
    "d = 500\n",
    "data = numpy.random.uniform(size=d*1000).reshape((1000,d))\n",
    "distances = scipy.spatial.distance.cdist(data, data)\n",
    "pd.Series(distances.reshape(1000000)).hist(bins=50)\n",
    "plt.title(\"%i차원 공간에서 점 간 거리\" %d)\n",
    "plt.show()"
   ]
  },
  {
   "cell_type": "code",
   "execution_count": 2,
   "metadata": {},
   "outputs": [],
   "source": [
    "# 아이겐페이스와 차원 축소 예제\n",
    "# 40명의 64x64 픽셀의 얼굴이미지 파일을 1명당 10장씩 불러옴. 64x64 = 4096차원 데이터\n",
    "# 그 후 주성분 분석으로 4096차원의 데이터를 25차원으로 축소\n",
    "import sklearn\n",
    "import sklearn.datasets as datasets\n",
    "from sklearn.decomposition import PCA\n",
    "from sklearn.cluster import KMeans\n",
    "from sklearn.metrics import silhouette_score, adjusted_rand_score\n",
    "from sklearn import metrics"
   ]
  },
  {
   "cell_type": "code",
   "execution_count": 3,
   "metadata": {},
   "outputs": [
    {
     "name": "stdout",
     "output_type": "stream",
     "text": [
      "downloading Olivetti faces from https://ndownloader.figshare.com/files/5976027 to C:\\Users\\jhpark\\scikit_learn_data\n"
     ]
    }
   ],
   "source": [
    "# 데이터 불러오기\n",
    "faces_data = datasets.fetch_olivetti_faces()\n",
    "person_ids, image_array = faces_data['target'], faces_data.images"
   ]
  },
  {
   "cell_type": "code",
   "execution_count": 7,
   "metadata": {},
   "outputs": [],
   "source": [
    "# (64, 64) 크기의 데이터를 (4096, )으로 변환 (64 * 64 = 4096)\n",
    "X = image_array.reshape((len(person_ids), 64*64))"
   ]
  },
  {
   "cell_type": "code",
   "execution_count": 8,
   "metadata": {},
   "outputs": [
    {
     "name": "stdout",
     "output_type": "stream",
     "text": [
      "raw data clustering result\n",
      "clustering performance:  0.14290293\n",
      "face match rate:  0.41198686900146425\n"
     ]
    },
    {
     "name": "stderr",
     "output_type": "stream",
     "text": [
      "C:\\Users\\jhpark\\Anaconda3\\lib\\site-packages\\sklearn\\metrics\\pairwise.py:257: RuntimeWarning: invalid value encountered in sqrt\n",
      "  return distances if squared else np.sqrt(distances, out=distances)\n"
     ]
    }
   ],
   "source": [
    "# 군집화 알고리즘 실행\n",
    "print(\"raw data clustering result\")\n",
    "model = KMeans(n_clusters=40)\n",
    "model.fit(X)\n",
    "print(\"clustering performance: \", silhouette_score(X, model.labels_))\n",
    "print(\"face match rate: \", metrics.adjusted_rand_score(\n",
    "        model.labels_,person_ids))"
   ]
  },
  {
   "cell_type": "code",
   "execution_count": 9,
   "metadata": {},
   "outputs": [
    {
     "name": "stdout",
     "output_type": "stream",
     "text": [
      "After PCA, clustering result\n",
      "clustering performance:  0.23718557\n",
      "face match rate:  0.43020323283385387\n"
     ]
    },
    {
     "name": "stderr",
     "output_type": "stream",
     "text": [
      "C:\\Users\\jhpark\\Anaconda3\\lib\\site-packages\\sklearn\\metrics\\pairwise.py:257: RuntimeWarning: invalid value encountered in sqrt\n",
      "  return distances if squared else np.sqrt(distances, out=distances)\n"
     ]
    }
   ],
   "source": [
    "# PCA\n",
    "# pca.components_[0,:] 를 사용하면 첫번째 주성분을 볼 수 있음\n",
    "# pd.Series(pca.explained_variance_ratio_).plot() 를 사용하면 몇번째까지 설명하는지 알 수 있음\n",
    "# pca = PCA(n)\n",
    "# pca.fit(X)\n",
    "# X_reduced = pca.transform(X)\n",
    "# 주성분 분석은 이상치에 민감. 모든 차원의 표준편차가 비슷해야한다.\n",
    "print(\"After PCA, clustering result\")\n",
    "pca = PCA(25)\n",
    "pca.fit(X)\n",
    "X_reduced = pca.transform(X)\n",
    "model_reduced = KMeans(n_clusters=40)\n",
    "model_reduced.fit(X_reduced)\n",
    "labels_reduced = model_reduced.labels_\n",
    "print(\"clustering performance: \", silhouette_score(X_reduced, model_reduced.labels_))\n",
    "print(\"face match rate: \", metrics.adjusted_rand_score(\n",
    "        model_reduced.labels_,person_ids))"
   ]
  },
  {
   "cell_type": "code",
   "execution_count": 1,
   "metadata": {},
   "outputs": [
    {
     "data": {
      "text/plain": [
       "0.4620981203732969"
      ]
     },
     "execution_count": 1,
     "metadata": {},
     "output_type": "execute_result"
    }
   ],
   "source": [
    "# 군집화(clustering)\n",
    "# 군집화는 연속적인 값을 이산적인 값으로 변환한다.\n",
    "## 군집화 평가방법\n",
    "# 각 군집마다 대푯값이 구별되어야 한다.\n",
    "# 데이터가 고차원이라면 주성분 분석으로 2차원으로 축소한 뒤 산포도를 그림.\n",
    "# 실루엣 점수를 통해 평가\n",
    "# 정답을 알고 있다면 상호 정보량을 계싼해서 군집을 평가할수 있다.\n",
    "## k-means clustering algorithm\n",
    "# from sklearn.cluster import KMeans\n",
    "# model = KMeans(n_clusters=k)\n",
    "# model.fit(my_data)\n",
    "# labels = model.labels_\n",
    "# cluster_centers = model.cluster_centers_\n",
    "\n",
    "# 상호정보량(mutual information)\n",
    "# 두 확률변수 (x,y) 중 x의 값이 정해졌을 때 이 정보로 인해 주어지는 y의 정보량을 나타낸다.\n",
    "# 예를 들어 두 변수가 독립이면 x와 y의 값에 아무런 연관이 없으므로 MI는 0이 나온다.\n",
    "from sklearn import metrics\n",
    "labels_true = [0,0,0,1,1,1]\n",
    "labels_pred = [0,0,1,1,2,2]\n",
    "metrics.mutual_info_score(labels_true, labels_pred)"
   ]
  },
  {
   "cell_type": "code",
   "execution_count": null,
   "metadata": {},
   "outputs": [],
   "source": []
  }
 ],
 "metadata": {
  "kernelspec": {
   "display_name": "Python 3",
   "language": "python",
   "name": "python3"
  },
  "language_info": {
   "codemirror_mode": {
    "name": "ipython",
    "version": 3
   },
   "file_extension": ".py",
   "mimetype": "text/x-python",
   "name": "python",
   "nbconvert_exporter": "python",
   "pygments_lexer": "ipython3",
   "version": "3.6.5"
  }
 },
 "nbformat": 4,
 "nbformat_minor": 2
}
