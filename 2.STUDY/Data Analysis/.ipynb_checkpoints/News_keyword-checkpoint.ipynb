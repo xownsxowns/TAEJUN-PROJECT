{
 "cells": [
  {
   "cell_type": "code",
   "execution_count": 2,
   "metadata": {
    "collapsed": false
   },
   "outputs": [],
   "source": [
    "'''동아일보 특정 키워드를 포함하는, 특정 날짜 이전 기사 내용 크롤러(정확도순 검색)\n",
    "python [모듈이름][키워드][가져올 페이지 숫자][결과 파일명]\n",
    "한페이지에 기사 15개'''\n",
    "\n",
    "import sys\n",
    "from bs4 import BeautifulSoup\n",
    "import urllib.request\n",
    "from urllib.parse import quote"
   ]
  },
  {
   "cell_type": "code",
   "execution_count": 5,
   "metadata": {
    "collapsed": false
   },
   "outputs": [
    {
     "data": {
      "text/plain": [
       "'quote는 urlopen에서 인자로 사용되는 URL주소(이하 타겟 주소)에 한글(UTF_8)이 포함되었을 때, 이를 아스키형식으로 바꿔주기 위한함수'"
      ]
     },
     "execution_count": 5,
     "metadata": {},
     "output_type": "execute_result"
    }
   ],
   "source": [
    "'''quote는 urlopen에서 인자로 사용되는 URL주소(이하 타겟 주소)에 한글(UTF_8)이 포함되었을 때, 이를 아스키형식으로 바꿔주기 위한함수'''"
   ]
  },
  {
   "cell_type": "code",
   "execution_count": 6,
   "metadata": {
    "collapsed": true
   },
   "outputs": [],
   "source": [
    "TARGET_URL_BEFORE_PAGE_NUM = \"http://news.donga.com/search?p=\"\n",
    "TARGET_URL_BEFORE_KEYWORD = '&query='\n",
    "TARGET_URL_REST = '&check_news=1&more=1&sorting=3&search_date=1&v1=&v2=&range=3'"
   ]
  },
  {
   "cell_type": "code",
   "execution_count": null,
   "metadata": {
    "collapsed": true
   },
   "outputs": [],
   "source": [
    "# 기사 검색 페이지에서 기사 제목에 링크된 기사 본문 주소 받아오기\n",
    "def get_link_from_news_title(page_num, URL, output_file):\n",
    "    for i in range(page_num):\n",
    "        current_page_num = 1 + i*15\n",
    "        position = URL.index('=')\n",
    "        URL_with_page_num = URL[: position+1] + str(current_page_num) + URL[position+1 :]\n",
    "        source_code_from_URL = urllib.request.urlopen(URL_with_page_num)"
   ]
  }
 ],
 "metadata": {
  "kernelspec": {
   "display_name": "Python [conda root]",
   "language": "python",
   "name": "conda-root-py"
  },
  "language_info": {
   "codemirror_mode": {
    "name": "ipython",
    "version": 3
   },
   "file_extension": ".py",
   "mimetype": "text/x-python",
   "name": "python",
   "nbconvert_exporter": "python",
   "pygments_lexer": "ipython3",
   "version": "3.5.2"
  }
 },
 "nbformat": 4,
 "nbformat_minor": 1
}
