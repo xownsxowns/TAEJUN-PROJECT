{
 "cells": [
  {
   "cell_type": "code",
   "execution_count": 1,
   "metadata": {},
   "outputs": [],
   "source": [
    "from typing import List"
   ]
  },
  {
   "cell_type": "markdown",
   "metadata": {},
   "source": [
    "# 세 수의 합\n",
    "배열을 입력받아 합으로 0을 만들 수 있는 3개의 엘리먼트를 출력하라."
   ]
  },
  {
   "cell_type": "code",
   "execution_count": 2,
   "metadata": {},
   "outputs": [],
   "source": [
    "nums = [-1, 0, 1, 2, -1, -4]"
   ]
  },
  {
   "cell_type": "markdown",
   "metadata": {},
   "source": [
    "## 풀이1\n",
    "브루트 포스로 계산"
   ]
  },
  {
   "cell_type": "code",
   "execution_count": 3,
   "metadata": {},
   "outputs": [],
   "source": [
    "def threeSum(nums: List[int]) -> List[List[int]]:\n",
    "    results = []\n",
    "    nums.sort()\n",
    "    \n",
    "    # 브루트 포스 n^3 반복\n",
    "    for i in range(len(nums) - 2):\n",
    "        # 중복된 값 건너뛰기\n",
    "        if i > 0 and nums[i] == nums[i - 1]:\n",
    "            continue\n",
    "        for j in range(i+1, len(nums)-1):\n",
    "            if j > i + 1 and nums[j] == nums[j - 1]:\n",
    "                continue\n",
    "            for k in range(j+1, len(nums)):\n",
    "                if k > j + 1 and nums[k] == nums[k - 1]:\n",
    "                    continue\n",
    "                if nums[i] + nums[j] + nums[k] == 0:\n",
    "                    results.append([nums[i], nums[j], nums[k]])\n",
    "    return results"
   ]
  },
  {
   "cell_type": "markdown",
   "metadata": {},
   "source": [
    "## 풀이2\n",
    "투 포인터로 합 계산"
   ]
  },
  {
   "cell_type": "code",
   "execution_count": 4,
   "metadata": {},
   "outputs": [],
   "source": [
    "def threeSum(nums: List[int]) -> List[List[int]]:\n",
    "    results = []\n",
    "    nums.sort()\n",
    "    \n",
    "    for i in range(len(nums) - 2):\n",
    "        # 중복된 값 건너뛰기\n",
    "        if i > 0 and nums[i] == nums[i - 1]:\n",
    "            continue\n",
    "        \n",
    "        # 간격을 좁혀가며 합 sum 계산\n",
    "        left, right = i+1, len(nums)-1\n",
    "        while left < right:\n",
    "            sum = nums[i] + nums[left] + nums[right]\n",
    "            if sum < 0:\n",
    "                left += 1\n",
    "            elif sum > 0:\n",
    "                right -= 1\n",
    "            else:\n",
    "                # sum = 0인 경우이므로 정답 및 스킵 처리\n",
    "                results.append([nums[i], nums[left], nums[right]])\n",
    "                \n",
    "                while left < right and nums[left] == nums[left + 1]:\n",
    "                    left += 1\n",
    "                while left < right and nums[right] == nums[right - 1]:\n",
    "                    right -= 1\n",
    "                left += 1\n",
    "                right -= 1\n",
    "    return results"
   ]
  },
  {
   "cell_type": "code",
   "execution_count": 5,
   "metadata": {},
   "outputs": [
    {
     "data": {
      "text/plain": [
       "[[-1, -1, 2], [-1, 0, 1]]"
      ]
     },
     "execution_count": 5,
     "metadata": {},
     "output_type": "execute_result"
    }
   ],
   "source": [
    "threeSum(nums)"
   ]
  },
  {
   "cell_type": "code",
   "execution_count": null,
   "metadata": {},
   "outputs": [],
   "source": []
  }
 ],
 "metadata": {
  "kernelspec": {
   "display_name": "DL",
   "language": "python",
   "name": "dl"
  },
  "language_info": {
   "codemirror_mode": {
    "name": "ipython",
    "version": 3
   },
   "file_extension": ".py",
   "mimetype": "text/x-python",
   "name": "python",
   "nbconvert_exporter": "python",
   "pygments_lexer": "ipython3",
   "version": "3.8.5"
  }
 },
 "nbformat": 4,
 "nbformat_minor": 4
}
